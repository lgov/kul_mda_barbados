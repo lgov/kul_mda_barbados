{
 "cells": [
  {
   "cell_type": "code",
   "execution_count": null,
   "id": "brilliant-purpose",
   "metadata": {},
   "outputs": [],
   "source": [
    "import pandas as pd\n",
    "import numpy as np\n",
    "import json\n",
    "import re"
   ]
  },
  {
   "cell_type": "code",
   "execution_count": null,
   "id": "loaded-prerequisite",
   "metadata": {},
   "outputs": [],
   "source": [
    "with open('../data/stock_info.json', 'r') as f:\n",
    "    # Data is a string containing a json dictionary of key:dictionary pairs.\n",
    "    # We can convert this to pandas by taking the key as index for each row and the value (dictionary) as columns.\n",
    "    # 'index' : dict like {index -> {column -> value}}\n",
    "    df = pd.read_json(f, orient='index')\n"
   ]
  },
  {
   "cell_type": "code",
   "execution_count": null,
   "id": "heavy-eleven",
   "metadata": {},
   "outputs": [],
   "source": [
    "df.head()"
   ]
  },
  {
   "cell_type": "code",
   "execution_count": null,
   "id": "certain-rachel",
   "metadata": {},
   "outputs": [],
   "source": [
    "df.describe()"
   ]
  },
  {
   "cell_type": "code",
   "execution_count": null,
   "id": "smooth-joshua",
   "metadata": {},
   "outputs": [],
   "source": [
    "# List all the sectors\n",
    "df['sector'].unique()"
   ]
  },
  {
   "cell_type": "code",
   "execution_count": null,
   "id": "complimentary-board",
   "metadata": {},
   "outputs": [],
   "source": [
    "df['longBusinessSummary']"
   ]
  },
  {
   "cell_type": "code",
   "execution_count": null,
   "id": "composite-pregnancy",
   "metadata": {},
   "outputs": [],
   "source": [
    "len(df['longBusinessSummary'].unique())"
   ]
  },
  {
   "cell_type": "code",
   "execution_count": null,
   "id": "steady-matter",
   "metadata": {},
   "outputs": [],
   "source": [
    "df['longBusinessSummary'].to_excel('../data/business_summaries.xlsx')"
   ]
  },
  {
   "cell_type": "code",
   "execution_count": null,
   "id": "knowing-theater",
   "metadata": {},
   "outputs": [],
   "source": [
    "def match_func(text):\n",
    "    text = str(text)\n",
    "    m = re.search(r'was founded in (\\d{4}).*|was incorporated in (\\d{4}).*', text)\n",
    "    if m:\n",
    "        year = m.group(1) if m.group(1) else m.group(2)\n",
    "        return year\n",
    "    m = re.search(r'was formed on [A-Za-z]+ \\d+, (\\d{4}).*', text)\n",
    "    if m:\n",
    "        return m.group(1)\n",
    "    return None\n",
    "\n",
    "# Many texts contain this exact string:\n",
    "# The company was founded in XXXX and is headquartered in YYYY, ZZZZ.\n",
    "df['year_of_foundation']=df['longBusinessSummary'].apply(match_func)\n",
    "df.head(20)"
   ]
  },
  {
   "cell_type": "code",
   "execution_count": null,
   "id": "introductory-richardson",
   "metadata": {},
   "outputs": [],
   "source": [
    "df['year_of_foundation'].isna().sum()"
   ]
  },
  {
   "cell_type": "code",
   "execution_count": null,
   "id": "manufactured-biotechnology",
   "metadata": {},
   "outputs": [],
   "source": [
    "df.to_excel('../data/investees_info.xlsx')"
   ]
  }
 ],
 "metadata": {
  "kernelspec": {
   "display_name": "Python 3",
   "language": "python",
   "name": "python3"
  },
  "language_info": {
   "codemirror_mode": {
    "name": "ipython",
    "version": 3
   },
   "file_extension": ".py",
   "mimetype": "text/x-python",
   "name": "python",
   "nbconvert_exporter": "python",
   "pygments_lexer": "ipython3",
   "version": "3.8.6"
  }
 },
 "nbformat": 4,
 "nbformat_minor": 5
}
