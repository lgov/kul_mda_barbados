{
 "cells": [
  {
   "cell_type": "code",
   "execution_count": null,
   "id": "sudden-potter",
   "metadata": {},
   "outputs": [],
   "source": [
    "import pandas as pd\n",
    "import numpy as np\n",
    "import json"
   ]
  },
  {
   "cell_type": "code",
   "execution_count": null,
   "id": "front-track",
   "metadata": {},
   "outputs": [],
   "source": [
    "with open('../data/stock_info.json', 'r') as f:\n",
    "    # Data is a string containing a json dictionary of key:dictionary pairs.\n",
    "    # We can convert this to pandas by taking the key as index for each row and the value (dictionary) as columns.\n",
    "    # 'index' : dict like {index -> {column -> value}}\n",
    "    df = pd.read_json(f, orient='index')\n"
   ]
  },
  {
   "cell_type": "code",
   "execution_count": null,
   "id": "joined-graduate",
   "metadata": {},
   "outputs": [],
   "source": [
    "df.head()"
   ]
  },
  {
   "cell_type": "code",
   "execution_count": null,
   "id": "imperial-healthcare",
   "metadata": {},
   "outputs": [],
   "source": [
    "df.describe()"
   ]
  },
  {
   "cell_type": "code",
   "execution_count": null,
   "id": "electoral-clark",
   "metadata": {},
   "outputs": [],
   "source": [
    "# List all the sectors\n",
    "df['sector'].unique()"
   ]
  },
  {
   "cell_type": "code",
   "execution_count": null,
   "id": "permanent-virginia",
   "metadata": {},
   "outputs": [],
   "source": []
  }
 ],
 "metadata": {
  "kernelspec": {
   "display_name": "Python 3",
   "language": "python",
   "name": "python3"
  },
  "language_info": {
   "codemirror_mode": {
    "name": "ipython",
    "version": 3
   },
   "file_extension": ".py",
   "mimetype": "text/x-python",
   "name": "python",
   "nbconvert_exporter": "python",
   "pygments_lexer": "ipython3",
   "version": "3.8.6"
  }
 },
 "nbformat": 4,
 "nbformat_minor": 5
}
