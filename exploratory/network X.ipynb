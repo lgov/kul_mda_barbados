{
 "cells": [
  {
   "cell_type": "markdown",
   "metadata": {},
   "source": [
    "# clustering analysis with network x"
   ]
  },
  {
   "cell_type": "markdown",
   "metadata": {},
   "source": [
    "## 1. load the required packages"
   ]
  },
  {
   "cell_type": "code",
   "execution_count": null,
   "metadata": {},
   "outputs": [],
   "source": [
    "import networkx as nx\n",
    "import community as c\n",
    "import pandas as pd\n",
    "import matplotlib.pyplot as plt\n",
    "%matplotlib inline\n",
    "import operator\n",
    "from pandas import Series,DataFrame\n",
    "import seaborn as sns\n",
    "import pandas as pd\n",
    "from matplotlib import pyplot as plt\n",
    "import numpy\n",
    "from sklearn.decomposition import PCA\n",
    "from sklearn.cluster import KMeans\n",
    "import numpy as np\n",
    "from node2vec import Node2Vec"
   ]
  },
  {
   "cell_type": "markdown",
   "metadata": {},
   "source": [
    "## 2. import dataset and obtain the preprocessed data"
   ]
  },
  {
   "cell_type": "markdown",
   "metadata": {},
   "source": [
    "### 2.1 dataset for 2020"
   ]
  },
  {
   "cell_type": "code",
   "execution_count": null,
   "metadata": {},
   "outputs": [],
   "source": [
    "df = pd.read_excel('../data/all_submission_files.xlsx')\n",
    "data=df[df[\"report_end_date\"].dt.year==2020]\n",
    "data.head(n=6)"
   ]
  },
  {
   "cell_type": "markdown",
   "metadata": {},
   "source": [
    "graph of the data"
   ]
  },
  {
   "cell_type": "code",
   "execution_count": null,
   "metadata": {},
   "outputs": [],
   "source": [
    "G=nx.Graph()\n",
    "for i in df.index:\n",
    "    edge = df.iloc[i,]\n",
    "    G.add_edge(edge['cik'],edge['cusip'],weight=edge['value'])"
   ]
  },
  {
   "cell_type": "code",
   "execution_count": null,
   "metadata": {},
   "outputs": [],
   "source": [
    "betCent = nx.betweenness_centrality(G, normalized=True, endpoints=True)\n",
    "node_size =  [v * 1000 for v in betCent.values()]\n",
    "#width = [w for w in ]\n",
    "pos = nx.spring_layout(G)\n",
    "plt.figure(figsize=(15,15))\n",
    "nx.draw_networkx(G, \n",
    "                 pos=pos, \n",
    "                 with_labels=False,\n",
    "                 node_size=node_size)"
   ]
  },
  {
   "cell_type": "code",
   "execution_count": null,
   "metadata": {},
   "outputs": [],
   "source": [
    "df_betweenness = pd.DataFrame.from_dict(betCent,orient='index')\n",
    "df_betweenness.columns=['betweenness']\n",
    "df_betweenness.sort_values(by='betweenness',ascending=False,inplace=True)\n",
    "df_betweenness.head()"
   ]
  },
  {
   "cell_type": "code",
   "execution_count": null,
   "metadata": {},
   "outputs": [],
   "source": [
    "important_nodes = df_betweenness.head(10).index.values\n",
    "top_tree = important_nodes[0:3]\n",
    "other_nodes = important_nodes[3:-1]"
   ]
  },
  {
   "cell_type": "code",
   "execution_count": null,
   "metadata": {},
   "outputs": [],
   "source": [
    "elarge = [(u, v) for (u, v, d) in G.edges(data=True) if d[\"weight\"] >= 5]\n",
    "esmall = [(u, v) for (u, v, d) in G.edges(data=True) if (d[\"weight\"] <= 5 and d['weight']>1)]"
   ]
  },
  {
   "cell_type": "code",
   "execution_count": null,
   "metadata": {},
   "outputs": [],
   "source": [
    "pos = nx.spring_layout(G)  # positions for all nodes\n",
    "plt.figure(figsize=(15,15))\n",
    "# nodes\n",
    "nx.draw_networkx_nodes(G, \n",
    "                       nodelist=top_tree,\n",
    "                       pos=pos, \n",
    "                       alpha=0.4,\n",
    "                       node_size=140)\n",
    "\n",
    "nx.draw_networkx_nodes(G, \n",
    "                       nodelist=other_nodes,\n",
    "                       pos=pos, node_size=70)\n",
    "\n",
    "# edges\n",
    "nx.draw_networkx_edges(G, \n",
    "                       pos=pos, \n",
    "                       edgelist=elarge, \n",
    "                       width=1)\n",
    "nx.draw_networkx_edges(G, \n",
    "                       pos=pos, \n",
    "                       edgelist=esmall, \n",
    "                       width=1, alpha=0.5, edge_color=\"b\", style=\"dashed\"\n",
    ")\n",
    "\n",
    "# labels\n",
    "nx.draw_networkx_labels(G, \n",
    "                        pos=pos)\n",
    "\n",
    "plt.axis(\"off\")\n",
    "plt.show()"
   ]
  },
  {
   "cell_type": "code",
   "execution_count": null,
   "metadata": {},
   "outputs": [],
   "source": [
    "df2=df[df[\"report_end_date\"].dt.year==2020]\n",
    "df2.head()"
   ]
  },
  {
   "cell_type": "code",
   "execution_count": null,
   "metadata": {},
   "outputs": [],
   "source": [
    "G=nx.Graph()\n",
    "for i in df2.index:\n",
    "    edge = df.iloc[i,]\n",
    "    G.add_edge(edge['cik'],edge['cusip'],weight=edge['value'])"
   ]
  },
  {
   "cell_type": "code",
   "execution_count": null,
   "metadata": {},
   "outputs": [],
   "source": [
    "G = nx.complete_graph(5)\n",
    "for i in df2.index:\n",
    "    edge = df.iloc[i,]\n",
    "    G.add_edge(edge['cik'],edge['cusip'],weight=edge['value'])\n",
    "print(nx.clustering(G))"
   ]
  },
  {
   "cell_type": "code",
   "execution_count": null,
   "metadata": {},
   "outputs": [],
   "source": [
    "betCent = nx.betweenness_centrality(G, normalized=True, endpoints=True)\n",
    "node_size =  [v * 1000 for v in betCent.values()]\n",
    "#width = [w for w in ]\n",
    "pos = nx.spring_layout(G)\n",
    "plt.figure(figsize=(15,15))\n",
    "nx.draw_networkx(G, \n",
    "                 pos=pos, \n",
    "                 with_labels=False,\n",
    "                 node_size=node_size)"
   ]
  },
  {
   "cell_type": "code",
   "execution_count": null,
   "metadata": {},
   "outputs": [],
   "source": [
    "df2_betweenness = pd.DataFrame.from_dict(betCent,orient='index')\n",
    "df2_betweenness.columns=['betweenness']\n",
    "df2_betweenness.sort_values(by='betweenness',ascending=False,inplace=True)\n",
    "df2_betweenness.head()"
   ]
  },
  {
   "cell_type": "code",
   "execution_count": null,
   "metadata": {},
   "outputs": [],
   "source": [
    "important_nodes = df2_betweenness.head(10).index.values\n",
    "top_tree = important_nodes[0:3]\n",
    "other_nodes = important_nodes[3:-1]"
   ]
  },
  {
   "cell_type": "code",
   "execution_count": null,
   "metadata": {},
   "outputs": [],
   "source": [
    "elarge = [(u, v) for (u, v, d) in G.edges(data=True) if d[\"weight\"] >= 5]\n",
    "esmall = [(u, v) for (u, v, d) in G.edges(data=True) if (d[\"weight\"] <= 5 and d['weight']>1)]"
   ]
  },
  {
   "cell_type": "code",
   "execution_count": null,
   "metadata": {},
   "outputs": [],
   "source": [
    "pos = nx.spring_layout(G)  # positions for all nodes\n",
    "plt.figure(figsize=(15,15))\n",
    "# nodes\n",
    "nx.draw_networkx_nodes(G, \n",
    "                       nodelist=top_tree,\n",
    "                       pos=pos, \n",
    "                       alpha=0.4,\n",
    "                       node_size=140)\n",
    "\n",
    "nx.draw_networkx_nodes(G, \n",
    "                       nodelist=other_nodes,\n",
    "                       pos=pos, node_size=70)\n",
    "\n",
    "# edges\n",
    "nx.draw_networkx_edges(G, \n",
    "                       pos=pos, \n",
    "                       edgelist=elarge, \n",
    "                       width=1)\n",
    "nx.draw_networkx_edges(G, \n",
    "                       pos=pos, \n",
    "                       edgelist=esmall, \n",
    "                       width=1, alpha=0.5, edge_color=\"b\", style=\"dashed\"\n",
    ")\n",
    "\n",
    "# labels\n",
    "nx.draw_networkx_labels(G, \n",
    "                        pos=pos)\n",
    "\n",
    "plt.axis(\"off\")\n",
    "plt.show()"
   ]
  },
  {
   "cell_type": "markdown",
   "metadata": {},
   "source": [
    "### 2.2 summary of the dataset"
   ]
  },
  {
   "cell_type": "code",
   "execution_count": null,
   "metadata": {},
   "outputs": [],
   "source": [
    "Retrieve the number of stock and total amount of investment in stocks for each company during 2020"
   ]
  },
  {
   "cell_type": "code",
   "execution_count": null,
   "metadata": {},
   "outputs": [],
   "source": [
    "data_summary = data.groupby('cik').agg({'value': ['sum', 'count']})\n",
    "index_name = data_summary.index\n",
    "total_value = []\n",
    "number_stocks = []\n",
    "for i in range(0, len(data_summary)):\n",
    "  total_value.append(data_summary.values[i, 0])\n",
    "  number_stocks.append(data_summary.values[i, 1])\n",
    "data_final = {'cik':index_name,'number_stocks': number_stocks, 'total_value': total_value}\n",
    "data_final = DataFrame(data_final)\n",
    "data_final = data_final.drop(data_final[data_final['total_value']==0].index)\n",
    "data_final.head(n=6)"
   ]
  },
  {
   "cell_type": "markdown",
   "metadata": {},
   "source": [
    "### 2.3 adjust the scale of the data"
   ]
  },
  {
   "cell_type": "markdown",
   "metadata": {},
   "source": [
    "Take the logarithmic transformation of the total value and number of stocks."
   ]
  },
  {
   "cell_type": "code",
   "execution_count": null,
   "metadata": {},
   "outputs": [],
   "source": [
    "data_log = data_final.copy()\n",
    "data_log['number_stocks'] = numpy.log(data_log['number_stocks'])\n",
    "data_log['total_value'] = numpy.log(data_log['total_value'])\n",
    "data_log.head(n=6)"
   ]
  },
  {
   "cell_type": "markdown",
   "metadata": {},
   "source": [
    "## 3. visualize the data"
   ]
  },
  {
   "cell_type": "markdown",
   "metadata": {},
   "source": [
    "### 3.1 plot the transformed dataset"
   ]
  },
  {
   "cell_type": "code",
   "execution_count": null,
   "metadata": {},
   "outputs": [],
   "source": [
    "data_label= data_log[(data_log.total_value>15)|(data_log.total_value<11)]\n",
    "fig=plt.figure(figsize=(12, 13))\n",
    "sns.lmplot(x='number_stocks',y='total_value',data=data_log,fit_reg=True) \n",
    "for i in range (len(data_label)):\n",
    "    plt.annotate(data_label['cik'].iloc[i],(data_label['number_stocks'].iloc[i],data_label['total_value'].iloc[i]))"
   ]
  },
  {
   "cell_type": "code",
   "execution_count": null,
   "metadata": {},
   "outputs": [],
   "source": [
    "nx.draw(G,with_labels=True, node_color='b',node_size=500)"
   ]
  },
  {
   "cell_type": "code",
   "execution_count": null,
   "metadata": {},
   "outputs": [],
   "source": [
    "node2vec= Node2Vec(G, dimensions=2, walk_length=20, num_walks=10,workers=4)\n",
    "model=node2vec.fit(window=10, min_count=1)\n",
    "model.wv.most_similar('1')\n",
    "model.wv.save_word2vec_format(\"netwerk\")"
   ]
  }
 ],
 "metadata": {
  "kernelspec": {
   "display_name": "Python 3",
   "language": "python",
   "name": "python3"
  },
  "language_info": {
   "codemirror_mode": {
    "name": "ipython",
    "version": 3
   },
   "file_extension": ".py",
   "mimetype": "text/x-python",
   "name": "python",
   "nbconvert_exporter": "python",
   "pygments_lexer": "ipython3",
   "version": "3.8.6"
  }
 },
 "nbformat": 4,
 "nbformat_minor": 4
}
