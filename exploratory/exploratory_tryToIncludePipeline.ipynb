{
 "cells": [
  {
   "cell_type": "markdown",
   "id": "favorite-amsterdam",
   "metadata": {},
   "source": [
    "# Import data"
   ]
  },
  {
   "cell_type": "code",
   "execution_count": 1,
   "id": "meaningful-letter",
   "metadata": {
    "scrolled": true
   },
   "outputs": [
    {
     "name": "stdout",
     "output_type": "stream",
     "text": [
      "      report_end_date      cik              nameOfIssuer      titleOfClass  \\\n",
      "0          2020-09-30  1129770  SPDR S&P 500                           COM   \n",
      "1          2020-09-30  1129770  SPDR Dow Jones Ind                     COM   \n",
      "2          2020-09-30  1129770  Ishares Russell                        COM   \n",
      "3          2020-09-30  1129770  Invesco QQQ TRUST                      COM   \n",
      "4          2020-09-30  1129770  iShares Russell 20                     COM   \n",
      "...               ...      ...                       ...               ...   \n",
      "46767      2020-12-31  1744091                ISHARES TR  RUS 2000 GRW ETF   \n",
      "46768      2020-12-31  1744091         ETF SER SOLUTIONS       US GLB JETS   \n",
      "46769      2020-12-31  1744091           BEYOND MEAT INC               COM   \n",
      "46770      2020-12-31  1744091             SUNPOWER CORP               COM   \n",
      "46771      2020-12-31  1744091      LOCKHEED MARTIN CORP               COM   \n",
      "\n",
      "           cusip        value  sshPrnamt sshPrnamtType  \n",
      "0      824348106  70889608000     211680            SH  \n",
      "1      78467x109  29886300000     107698            SH  \n",
      "2      464287622  26825894000     143339            SH  \n",
      "3      73935a104  21672909000      78005            SH  \n",
      "4      464287655   9434973000      62988            SH  \n",
      "...          ...          ...        ...           ...  \n",
      "46767  464287648       224000        782            SH  \n",
      "46768  26922A842       219000       9794            SH  \n",
      "46769  08862E109       218000       1740            SH  \n",
      "46770  867652406       213000       8310            SH  \n",
      "46771  539830109       202000        570            SH  \n",
      "\n",
      "[46772 rows x 8 columns]\n"
     ]
    }
   ],
   "source": [
    "import pandas as pd\n",
    "import numpy as np\n",
    "from sklearn.pipeline import Pipeline\n",
    "from sklearn.compose import ColumnTransformer\n",
    "from sklearn.base import BaseEstimator\n",
    "\n",
    "df = pd.read_excel (r'../data/all_submission_files.xlsx')\n",
    "print(df)"
   ]
  },
  {
   "cell_type": "markdown",
   "id": "collective-vermont",
   "metadata": {},
   "source": [
    "Examine the different data types"
   ]
  },
  {
   "cell_type": "code",
   "execution_count": 2,
   "id": "taken-atlas",
   "metadata": {},
   "outputs": [
    {
     "data": {
      "text/plain": [
       "report_end_date    datetime64[ns]\n",
       "cik                         int64\n",
       "nameOfIssuer               object\n",
       "titleOfClass               object\n",
       "cusip                      object\n",
       "value                       int64\n",
       "sshPrnamt                   int64\n",
       "sshPrnamtType              object\n",
       "dtype: object"
      ]
     },
     "execution_count": 2,
     "metadata": {},
     "output_type": "execute_result"
    }
   ],
   "source": [
    "df.dtypes"
   ]
  },
  {
   "cell_type": "markdown",
   "id": "vanilla-railway",
   "metadata": {},
   "source": [
    "# Pre-process Data"
   ]
  },
  {
   "cell_type": "markdown",
   "id": "rocky-calvin",
   "metadata": {},
   "source": [
    "## drop missing values (remove rows having missing values)"
   ]
  },
  {
   "cell_type": "code",
   "execution_count": 3,
   "id": "settled-conversation",
   "metadata": {},
   "outputs": [
    {
     "data": {
      "text/plain": [
       "report_end_date    0\n",
       "cik                0\n",
       "nameOfIssuer       1\n",
       "titleOfClass       1\n",
       "cusip              0\n",
       "value              0\n",
       "sshPrnamt          0\n",
       "sshPrnamtType      0\n",
       "dtype: int64"
      ]
     },
     "execution_count": 3,
     "metadata": {},
     "output_type": "execute_result"
    }
   ],
   "source": [
    "df.isna().sum()"
   ]
  },
  {
   "cell_type": "code",
   "execution_count": 4,
   "id": "subtle-equity",
   "metadata": {},
   "outputs": [
    {
     "name": "stdout",
     "output_type": "stream",
     "text": [
      "Dimension of the dataframe: (46772, 8)\n",
      "New Dimension of the dataframe: (46771, 8)\n"
     ]
    },
    {
     "data": {
      "text/html": [
       "<div>\n",
       "<style scoped>\n",
       "    .dataframe tbody tr th:only-of-type {\n",
       "        vertical-align: middle;\n",
       "    }\n",
       "\n",
       "    .dataframe tbody tr th {\n",
       "        vertical-align: top;\n",
       "    }\n",
       "\n",
       "    .dataframe thead th {\n",
       "        text-align: right;\n",
       "    }\n",
       "</style>\n",
       "<table border=\"1\" class=\"dataframe\">\n",
       "  <thead>\n",
       "    <tr style=\"text-align: right;\">\n",
       "      <th></th>\n",
       "      <th>report_end_date</th>\n",
       "      <th>cik</th>\n",
       "      <th>nameOfIssuer</th>\n",
       "      <th>titleOfClass</th>\n",
       "      <th>cusip</th>\n",
       "      <th>value</th>\n",
       "      <th>sshPrnamt</th>\n",
       "      <th>sshPrnamtType</th>\n",
       "    </tr>\n",
       "  </thead>\n",
       "  <tbody>\n",
       "    <tr>\n",
       "      <th>0</th>\n",
       "      <td>2020-09-30</td>\n",
       "      <td>1129770</td>\n",
       "      <td>SPDR S&amp;P 500</td>\n",
       "      <td>COM</td>\n",
       "      <td>824348106</td>\n",
       "      <td>70889608000</td>\n",
       "      <td>211680</td>\n",
       "      <td>SH</td>\n",
       "    </tr>\n",
       "    <tr>\n",
       "      <th>1</th>\n",
       "      <td>2020-09-30</td>\n",
       "      <td>1129770</td>\n",
       "      <td>SPDR Dow Jones Ind</td>\n",
       "      <td>COM</td>\n",
       "      <td>78467x109</td>\n",
       "      <td>29886300000</td>\n",
       "      <td>107698</td>\n",
       "      <td>SH</td>\n",
       "    </tr>\n",
       "    <tr>\n",
       "      <th>2</th>\n",
       "      <td>2020-09-30</td>\n",
       "      <td>1129770</td>\n",
       "      <td>Ishares Russell</td>\n",
       "      <td>COM</td>\n",
       "      <td>464287622</td>\n",
       "      <td>26825894000</td>\n",
       "      <td>143339</td>\n",
       "      <td>SH</td>\n",
       "    </tr>\n",
       "    <tr>\n",
       "      <th>3</th>\n",
       "      <td>2020-09-30</td>\n",
       "      <td>1129770</td>\n",
       "      <td>Invesco QQQ TRUST</td>\n",
       "      <td>COM</td>\n",
       "      <td>73935a104</td>\n",
       "      <td>21672909000</td>\n",
       "      <td>78005</td>\n",
       "      <td>SH</td>\n",
       "    </tr>\n",
       "    <tr>\n",
       "      <th>4</th>\n",
       "      <td>2020-09-30</td>\n",
       "      <td>1129770</td>\n",
       "      <td>iShares Russell 20</td>\n",
       "      <td>COM</td>\n",
       "      <td>464287655</td>\n",
       "      <td>9434973000</td>\n",
       "      <td>62988</td>\n",
       "      <td>SH</td>\n",
       "    </tr>\n",
       "    <tr>\n",
       "      <th>5</th>\n",
       "      <td>2020-09-30</td>\n",
       "      <td>1129770</td>\n",
       "      <td>SPDR S&amp;P Mid-Cap 4</td>\n",
       "      <td>COM</td>\n",
       "      <td>78464a821</td>\n",
       "      <td>9351708000</td>\n",
       "      <td>27600</td>\n",
       "      <td>SH</td>\n",
       "    </tr>\n",
       "    <tr>\n",
       "      <th>6</th>\n",
       "      <td>2020-09-30</td>\n",
       "      <td>1129770</td>\n",
       "      <td>Amazon Com Inc</td>\n",
       "      <td>COM</td>\n",
       "      <td>023135106</td>\n",
       "      <td>1032783000</td>\n",
       "      <td>328</td>\n",
       "      <td>SH</td>\n",
       "    </tr>\n",
       "    <tr>\n",
       "      <th>7</th>\n",
       "      <td>2020-09-30</td>\n",
       "      <td>1129770</td>\n",
       "      <td>SPDR S&amp;P Homebuild</td>\n",
       "      <td>COM</td>\n",
       "      <td>78464a888</td>\n",
       "      <td>879628000</td>\n",
       "      <td>16326</td>\n",
       "      <td>SH</td>\n",
       "    </tr>\n",
       "    <tr>\n",
       "      <th>8</th>\n",
       "      <td>2020-09-30</td>\n",
       "      <td>1129770</td>\n",
       "      <td>Central Fd Cda Ltd</td>\n",
       "      <td>COM</td>\n",
       "      <td>153501101</td>\n",
       "      <td>783173000</td>\n",
       "      <td>42703</td>\n",
       "      <td>SH</td>\n",
       "    </tr>\n",
       "    <tr>\n",
       "      <th>9</th>\n",
       "      <td>2020-09-30</td>\n",
       "      <td>1129770</td>\n",
       "      <td>Accelerate Diagnos</td>\n",
       "      <td>COM</td>\n",
       "      <td>00430h105</td>\n",
       "      <td>690395000</td>\n",
       "      <td>64765</td>\n",
       "      <td>SH</td>\n",
       "    </tr>\n",
       "  </tbody>\n",
       "</table>\n",
       "</div>"
      ],
      "text/plain": [
       "  report_end_date      cik              nameOfIssuer titleOfClass      cusip  \\\n",
       "0      2020-09-30  1129770  SPDR S&P 500                      COM  824348106   \n",
       "1      2020-09-30  1129770  SPDR Dow Jones Ind                COM  78467x109   \n",
       "2      2020-09-30  1129770  Ishares Russell                   COM  464287622   \n",
       "3      2020-09-30  1129770  Invesco QQQ TRUST                 COM  73935a104   \n",
       "4      2020-09-30  1129770  iShares Russell 20                COM  464287655   \n",
       "5      2020-09-30  1129770  SPDR S&P Mid-Cap 4                COM  78464a821   \n",
       "6      2020-09-30  1129770  Amazon Com Inc                    COM  023135106   \n",
       "7      2020-09-30  1129770  SPDR S&P Homebuild                COM  78464a888   \n",
       "8      2020-09-30  1129770  Central Fd Cda Ltd                COM  153501101   \n",
       "9      2020-09-30  1129770  Accelerate Diagnos                COM  00430h105   \n",
       "\n",
       "         value  sshPrnamt sshPrnamtType  \n",
       "0  70889608000     211680            SH  \n",
       "1  29886300000     107698            SH  \n",
       "2  26825894000     143339            SH  \n",
       "3  21672909000      78005            SH  \n",
       "4   9434973000      62988            SH  \n",
       "5   9351708000      27600            SH  \n",
       "6   1032783000        328            SH  \n",
       "7    879628000      16326            SH  \n",
       "8    783173000      42703            SH  \n",
       "9    690395000      64765            SH  "
      ]
     },
     "execution_count": 4,
     "metadata": {},
     "output_type": "execute_result"
    }
   ],
   "source": [
    "print('Dimension of the dataframe:',df.shape)\n",
    "df.dropna(how='any',inplace=True)\n",
    "print('New Dimension of the dataframe:',df.shape)\n",
    "df.head(10)"
   ]
  },
  {
   "cell_type": "markdown",
   "id": "technological-encounter",
   "metadata": {},
   "source": [
    "One row is deleted due to missing values in the columns nameofIssuer and titleOfClass. <br/>Print the first 10 rows "
   ]
  },
  {
   "cell_type": "markdown",
   "id": "informative-polymer",
   "metadata": {},
   "source": [
    "## Data Formatting, Creating New Column"
   ]
  },
  {
   "cell_type": "markdown",
   "id": "sunrise-shepherd",
   "metadata": {},
   "source": [
    "Delete extra columns, make the data homogenous and create a new column \"value_per_share\" for analysis. "
   ]
  },
  {
   "cell_type": "code",
   "execution_count": 5,
   "id": "therapeutic-bubble",
   "metadata": {},
   "outputs": [],
   "source": [
    "from sklearn.base import BaseEstimator\n",
    "\n",
    "class OutletTypeEncoder(BaseEstimator):\n",
    "\n",
    "    def __init__(self):\n",
    "        pass\n",
    "\n",
    "    def fit(self, documents, y=None):\n",
    "        return self\n",
    "\n",
    "    def transform(self, df):\n",
    "        df['cusip'] = df['cusip'].str.upper()\n",
    "        df['value_per_share'] = df['value'] / df['sshPrnamt']\n",
    "        df['value_log'] = df['value'].apply(lambda x: np.log(x) if x != 0 else 0)\n",
    "        df['sshPrnamt_log'] = df['sshPrnamt'].apply(lambda x: np.log(x) if x != 0 else 0)\n",
    "        df['valuePerShare_log'] = df['value_per_share'].apply(lambda x: np.log(x) if x != 0 else 0)\n",
    "        \n",
    "        return df"
   ]
  },
  {
   "cell_type": "code",
   "execution_count": 6,
   "id": "decreased-couple",
   "metadata": {
    "scrolled": true
   },
   "outputs": [],
   "source": [
    "pre_process = ColumnTransformer(remainder='passthrough',\n",
    "                                transformers=[('drop_columns', 'drop', ['titleOfClass','sshPrnamtType',])])"
   ]
  },
  {
   "cell_type": "markdown",
   "id": "material-trick",
   "metadata": {},
   "source": [
    "Create a pipeline"
   ]
  },
  {
   "cell_type": "code",
   "execution_count": 7,
   "id": "substantial-aggregate",
   "metadata": {},
   "outputs": [],
   "source": [
    "df_processed = Pipeline(steps=[('CreateAndUnique',OutletTypeEncoder()),\n",
    "                                ('pre_processing',pre_process)])"
   ]
  },
  {
   "cell_type": "code",
   "execution_count": 8,
   "id": "placed-great",
   "metadata": {},
   "outputs": [
    {
     "data": {
      "text/plain": [
       "Pipeline(steps=[('CreateAndUnique', OutletTypeEncoder()),\n",
       "                ('pre_processing',\n",
       "                 ColumnTransformer(remainder='passthrough',\n",
       "                                   transformers=[('drop_columns', 'drop',\n",
       "                                                  ['titleOfClass',\n",
       "                                                   'sshPrnamtType'])]))])"
      ]
     },
     "execution_count": 8,
     "metadata": {},
     "output_type": "execute_result"
    }
   ],
   "source": [
    "df_processed"
   ]
  },
  {
   "cell_type": "code",
   "execution_count": null,
   "id": "covered-housing",
   "metadata": {},
   "outputs": [],
   "source": []
  },
  {
   "cell_type": "code",
   "execution_count": null,
   "id": "timely-occasion",
   "metadata": {},
   "outputs": [],
   "source": []
  },
  {
   "cell_type": "code",
   "execution_count": null,
   "id": "honey-phenomenon",
   "metadata": {},
   "outputs": [],
   "source": []
  },
  {
   "cell_type": "code",
   "execution_count": 9,
   "id": "strategic-carrier",
   "metadata": {},
   "outputs": [],
   "source": [
    "#df['value_per_share'] = np.where(df['sshPrnamtType']=='SH',((df['value']*1000)/df['sshPrnamt']),\n",
    "#                                  np.where(df['sshPrnamtType']=='PRN',df['sshPrnamt'], 0))\n",
    "\n",
    "\n",
    "#   ***Where to put above lines?\n",
    "df['value_per_share'] = df['value'] / df['sshPrnamt']"
   ]
  },
  {
   "cell_type": "markdown",
   "id": "junior-convertible",
   "metadata": {},
   "source": [
    "descriptive statistics of the numerical variables"
   ]
  },
  {
   "cell_type": "code",
   "execution_count": 10,
   "id": "trying-proceeding",
   "metadata": {},
   "outputs": [
    {
     "data": {
      "text/html": [
       "<div>\n",
       "<style scoped>\n",
       "    .dataframe tbody tr th:only-of-type {\n",
       "        vertical-align: middle;\n",
       "    }\n",
       "\n",
       "    .dataframe tbody tr th {\n",
       "        vertical-align: top;\n",
       "    }\n",
       "\n",
       "    .dataframe thead th {\n",
       "        text-align: right;\n",
       "    }\n",
       "</style>\n",
       "<table border=\"1\" class=\"dataframe\">\n",
       "  <thead>\n",
       "    <tr style=\"text-align: right;\">\n",
       "      <th></th>\n",
       "      <th>cik</th>\n",
       "      <th>value</th>\n",
       "      <th>sshPrnamt</th>\n",
       "      <th>value_per_share</th>\n",
       "    </tr>\n",
       "  </thead>\n",
       "  <tbody>\n",
       "    <tr>\n",
       "      <th>count</th>\n",
       "      <td>4.677100e+04</td>\n",
       "      <td>4.677100e+04</td>\n",
       "      <td>4.677100e+04</td>\n",
       "      <td>4.676800e+04</td>\n",
       "    </tr>\n",
       "    <tr>\n",
       "      <th>mean</th>\n",
       "      <td>1.333147e+06</td>\n",
       "      <td>7.083168e+07</td>\n",
       "      <td>4.115935e+05</td>\n",
       "      <td>2.721542e+03</td>\n",
       "    </tr>\n",
       "    <tr>\n",
       "      <th>std</th>\n",
       "      <td>3.269081e+05</td>\n",
       "      <td>1.076631e+09</td>\n",
       "      <td>3.697519e+06</td>\n",
       "      <td>3.359409e+04</td>\n",
       "    </tr>\n",
       "    <tr>\n",
       "      <th>min</th>\n",
       "      <td>3.149650e+05</td>\n",
       "      <td>0.000000e+00</td>\n",
       "      <td>0.000000e+00</td>\n",
       "      <td>0.000000e+00</td>\n",
       "    </tr>\n",
       "    <tr>\n",
       "      <th>25%</th>\n",
       "      <td>9.325400e+05</td>\n",
       "      <td>8.350000e+04</td>\n",
       "      <td>2.000000e+03</td>\n",
       "      <td>1.613085e+01</td>\n",
       "    </tr>\n",
       "    <tr>\n",
       "      <th>50%</th>\n",
       "      <td>1.429788e+06</td>\n",
       "      <td>5.560000e+05</td>\n",
       "      <td>1.129400e+04</td>\n",
       "      <td>4.868180e+01</td>\n",
       "    </tr>\n",
       "    <tr>\n",
       "      <th>75%</th>\n",
       "      <td>1.549408e+06</td>\n",
       "      <td>3.392000e+06</td>\n",
       "      <td>6.156200e+04</td>\n",
       "      <td>1.162853e+02</td>\n",
       "    </tr>\n",
       "    <tr>\n",
       "      <th>max</th>\n",
       "      <td>1.846995e+06</td>\n",
       "      <td>7.088961e+10</td>\n",
       "      <td>2.800908e+08</td>\n",
       "      <td>3.256931e+06</td>\n",
       "    </tr>\n",
       "  </tbody>\n",
       "</table>\n",
       "</div>"
      ],
      "text/plain": [
       "                cik         value     sshPrnamt  value_per_share\n",
       "count  4.677100e+04  4.677100e+04  4.677100e+04     4.676800e+04\n",
       "mean   1.333147e+06  7.083168e+07  4.115935e+05     2.721542e+03\n",
       "std    3.269081e+05  1.076631e+09  3.697519e+06     3.359409e+04\n",
       "min    3.149650e+05  0.000000e+00  0.000000e+00     0.000000e+00\n",
       "25%    9.325400e+05  8.350000e+04  2.000000e+03     1.613085e+01\n",
       "50%    1.429788e+06  5.560000e+05  1.129400e+04     4.868180e+01\n",
       "75%    1.549408e+06  3.392000e+06  6.156200e+04     1.162853e+02\n",
       "max    1.846995e+06  7.088961e+10  2.800908e+08     3.256931e+06"
      ]
     },
     "execution_count": 10,
     "metadata": {},
     "output_type": "execute_result"
    }
   ],
   "source": [
    "df.describe()"
   ]
  },
  {
   "cell_type": "markdown",
   "id": "lovely-retailer",
   "metadata": {},
   "source": [
    "It seems that the same concept is never represented in different ways so we don't need to manipulate them. Here, \"cik\" column is also presented but this has no meaning, so can ignore this column"
   ]
  },
  {
   "cell_type": "markdown",
   "id": "southwest-sussex",
   "metadata": {},
   "source": [
    " # Normalisation (also included in the pipeline)\n",
    " The data frame used here is not formatted due to the operation includes in pipeline"
   ]
  },
  {
   "cell_type": "markdown",
   "id": "greatest-switzerland",
   "metadata": {},
   "source": [
    "Trying to plot histograms for data in columns 'sshPrnamt' and 'values'. Both cannot be ploted, so listed value_counts() in the following to see the distribution of the data in those two columns. The distribution of the data seems skewed. "
   ]
  },
  {
   "cell_type": "code",
   "execution_count": 11,
   "id": "beautiful-southeast",
   "metadata": {
    "scrolled": true
   },
   "outputs": [
    {
     "data": {
      "text/plain": [
       "<matplotlib.axes._subplots.AxesSubplot at 0x277c2dc2a00>"
      ]
     },
     "execution_count": 11,
     "metadata": {},
     "output_type": "execute_result"
    },
    {
     "data": {
      "image/png": "[encoded data removed]",
      "text/plain": [
       "<Figure size 432x288 with 1 Axes>"
      ]
     },
     "metadata": {
      "needs_background": "light"
     },
     "output_type": "display_data"
    }
   ],
   "source": [
    "df['sshPrnamt'].hist(bins=15)"
   ]
  },
  {
   "cell_type": "code",
   "execution_count": 12,
   "id": "republican-transformation",
   "metadata": {},
   "outputs": [
    {
     "data": {
      "text/plain": [
       "100       611\n",
       "200       346\n",
       "500       294\n",
       "300       264\n",
       "1000      263\n",
       "         ... \n",
       "21328       1\n",
       "504900      1\n",
       "62540       1\n",
       "221266      1\n",
       "37472       1\n",
       "Name: sshPrnamt, Length: 26382, dtype: int64"
      ]
     },
     "execution_count": 12,
     "metadata": {},
     "output_type": "execute_result"
    }
   ],
   "source": [
    "df['sshPrnamt'].value_counts()"
   ]
  },
  {
   "cell_type": "code",
   "execution_count": 13,
   "id": "still-montreal",
   "metadata": {},
   "outputs": [
    {
     "data": {
      "text/plain": [
       "0              1395\n",
       "1000            888\n",
       "2000            744\n",
       "3000            568\n",
       "4000            469\n",
       "               ... \n",
       "5774000           1\n",
       "260615000         1\n",
       "60268000          1\n",
       "12243983000       1\n",
       "38142000          1\n",
       "Name: value, Length: 13124, dtype: int64"
      ]
     },
     "execution_count": 13,
     "metadata": {},
     "output_type": "execute_result"
    }
   ],
   "source": [
    "df['value'].value_counts()"
   ]
  },
  {
   "cell_type": "markdown",
   "id": "animal-complex",
   "metadata": {},
   "source": [
    "Because of the skewed characteristics of the data in columns, we copy the columns \"sshPrnamt\",\"value\" and \"value_per_share\" and normalise them by log scaling."
   ]
  },
  {
   "cell_type": "code",
   "execution_count": 14,
   "id": "reserved-sodium",
   "metadata": {},
   "outputs": [
    {
     "data": {
      "text/plain": [
       "<matplotlib.axes._subplots.AxesSubplot at 0x277c3f92310>"
      ]
     },
     "execution_count": 14,
     "metadata": {},
     "output_type": "execute_result"
    },
    {
     "data": {
      "image/png": "[encoded data removed]",
      "text/plain": [
       "<Figure size 432x288 with 1 Axes>"
      ]
     },
     "metadata": {
      "needs_background": "light"
     },
     "output_type": "display_data"
    }
   ],
   "source": [
    "df['value_log'] = df['value'].apply(lambda x: np.log(x) if x != 0 else 0)\n",
    "df['value_log'].hist(bins=15)"
   ]
  },
  {
   "cell_type": "code",
   "execution_count": 15,
   "id": "assumed-syndicate",
   "metadata": {},
   "outputs": [
    {
     "data": {
      "text/plain": [
       "<matplotlib.axes._subplots.AxesSubplot at 0x277c290efd0>"
      ]
     },
     "execution_count": 15,
     "metadata": {},
     "output_type": "execute_result"
    },
    {
     "data": {
      "image/png": "[encoded data removed]",
      "text/plain": [
       "<Figure size 432x288 with 1 Axes>"
      ]
     },
     "metadata": {
      "needs_background": "light"
     },
     "output_type": "display_data"
    }
   ],
   "source": [
    "df['sshPrnamt_log'] = df['sshPrnamt'].apply(lambda x: np.log(x) if x != 0 else 0)\n",
    "df['sshPrnamt_log'].hist(bins=15) "
   ]
  },
  {
   "cell_type": "code",
   "execution_count": 16,
   "id": "explicit-values",
   "metadata": {},
   "outputs": [
    {
     "data": {
      "text/plain": [
       "<matplotlib.axes._subplots.AxesSubplot at 0x277c41ac490>"
      ]
     },
     "execution_count": 16,
     "metadata": {},
     "output_type": "execute_result"
    },
    {
     "data": {
      "image/png": "[encoded data removed]",
      "text/plain": [
       "<Figure size 432x288 with 1 Axes>"
      ]
     },
     "metadata": {
      "needs_background": "light"
     },
     "output_type": "display_data"
    }
   ],
   "source": [
    "df['valuePerShare_log'] = df['value_per_share'].apply(lambda x: np.log(x) if x != 0 else 0)\n",
    "df['valuePerShare_log'].hist(bins=15)"
   ]
  },
  {
   "cell_type": "markdown",
   "id": "innovative-reminder",
   "metadata": {},
   "source": [
    "Separate 'report_end_date' into Year, Month and day."
   ]
  },
  {
   "cell_type": "code",
   "execution_count": 17,
   "id": "thorough-mainland",
   "metadata": {
    "scrolled": true
   },
   "outputs": [],
   "source": [
    "df['Year'] = pd.DatetimeIndex(df['report_end_date']).year\n",
    "df['Month'] = pd.DatetimeIndex(df['report_end_date']).month\n",
    "df['day'] = pd.DatetimeIndex(df['report_end_date']).day"
   ]
  },
  {
   "cell_type": "markdown",
   "id": "wired-opposition",
   "metadata": {},
   "source": [
    "Make dataframes according to year for annual analysis"
   ]
  },
  {
   "cell_type": "code",
   "execution_count": 18,
   "id": "fitted-festival",
   "metadata": {},
   "outputs": [
    {
     "name": "stdout",
     "output_type": "stream",
     "text": [
      "dict_keys(['df0', 'df1', 'df2', 'df3', 'df4', 'df5', 'df6'])\n"
     ]
    }
   ],
   "source": [
    "df_dict = {f'df{i}': d for i, (g, d) in enumerate(df.groupby('Year'))}\n",
    "print(df_dict.keys())"
   ]
  },
  {
   "cell_type": "markdown",
   "id": "lyric-campus",
   "metadata": {},
   "source": [
    "Histograms for \"ciks\" in 2015"
   ]
  },
  {
   "cell_type": "code",
   "execution_count": 19,
   "id": "tutorial-jenny",
   "metadata": {},
   "outputs": [
    {
     "name": "stdout",
     "output_type": "stream",
     "text": [
      "[1315828 1626379 1172799 1280043 1476380]\n"
     ]
    },
    {
     "data": {
      "text/plain": [
       "<matplotlib.axes._subplots.AxesSubplot at 0x277c4883fd0>"
      ]
     },
     "execution_count": 19,
     "metadata": {},
     "output_type": "execute_result"
    },
    {
     "data": {
      "image/png": "[encoded data removed]",
      "text/plain": [
       "<Figure size 432x288 with 1 Axes>"
      ]
     },
     "metadata": {
      "needs_background": "light"
     },
     "output_type": "display_data"
    }
   ],
   "source": [
    "print(df_dict['df0']['cik'].unique())\n",
    "df_dict['df0']['cik'].hist(bins=10)"
   ]
  },
  {
   "cell_type": "markdown",
   "id": "published-match",
   "metadata": {},
   "source": [
    "Histograms for \"ciks\" in 2016"
   ]
  },
  {
   "cell_type": "code",
   "execution_count": 20,
   "id": "vulnerable-omega",
   "metadata": {},
   "outputs": [
    {
     "name": "stdout",
     "output_type": "stream",
     "text": [
      "[1129770 1444055 1429788  938506 1387723 1110443  913414 1641643 1364615\n",
      " 1534468 1497637 1681372  894300 1510989 1427261 1488207]\n"
     ]
    },
    {
     "data": {
      "text/plain": [
       "<matplotlib.axes._subplots.AxesSubplot at 0x277c42e4bb0>"
      ]
     },
     "execution_count": 20,
     "metadata": {},
     "output_type": "execute_result"
    },
    {
     "data": {
      "image/png": "[encoded data removed]",
      "text/plain": [
       "<Figure size 432x288 with 1 Axes>"
      ]
     },
     "metadata": {
      "needs_background": "light"
     },
     "output_type": "display_data"
    }
   ],
   "source": [
    "print(df_dict['df1']['cik'].unique())\n",
    "df_dict['df1']['cik'].hist(bins=50)"
   ]
  },
  {
   "cell_type": "markdown",
   "id": "prescribed-softball",
   "metadata": {},
   "source": [
    "Histograms for \"ciks\" in 2017"
   ]
  },
  {
   "cell_type": "code",
   "execution_count": 21,
   "id": "ceramic-stroke",
   "metadata": {
    "scrolled": true
   },
   "outputs": [
    {
     "name": "stdout",
     "output_type": "stream",
     "text": [
      "[ 805867 1708872  938506 1476380 1540569 1476179  936936 1260468]\n"
     ]
    },
    {
     "data": {
      "text/plain": [
       "<matplotlib.axes._subplots.AxesSubplot at 0x277c2e15100>"
      ]
     },
     "execution_count": 21,
     "metadata": {},
     "output_type": "execute_result"
    },
    {
     "data": {
      "image/png": "[encoded data removed]",
      "text/plain": [
       "<Figure size 432x288 with 1 Axes>"
      ]
     },
     "metadata": {
      "needs_background": "light"
     },
     "output_type": "display_data"
    }
   ],
   "source": [
    "print(df_dict['df2']['cik'].unique())\n",
    "df_dict['df2']['cik'].hist(bins=50)"
   ]
  },
  {
   "cell_type": "markdown",
   "id": "divided-hammer",
   "metadata": {},
   "source": [
    "Histograms for \"ciks\" in 2018"
   ]
  },
  {
   "cell_type": "code",
   "execution_count": 22,
   "id": "sitting-matthew",
   "metadata": {
    "scrolled": true
   },
   "outputs": [
    {
     "name": "stdout",
     "output_type": "stream",
     "text": [
      "[1583119  314965  938775 1278641 1282550 1388838 1585550 1730476 1622852\n",
      " 1434165 1261239]\n"
     ]
    },
    {
     "data": {
      "text/plain": [
       "<matplotlib.axes._subplots.AxesSubplot at 0x277c4965730>"
      ]
     },
     "execution_count": 22,
     "metadata": {},
     "output_type": "execute_result"
    },
    {
     "data": {
      "image/png": "[encoded data removed]",
      "text/plain": [
       "<Figure size 432x288 with 1 Axes>"
      ]
     },
     "metadata": {
      "needs_background": "light"
     },
     "output_type": "display_data"
    }
   ],
   "source": [
    "print(df_dict['df3']['cik'].unique())\n",
    "df_dict['df3']['cik'].hist(bins=50)"
   ]
  },
  {
   "cell_type": "markdown",
   "id": "finite-message",
   "metadata": {},
   "source": [
    "Histograms for \"ciks\" in 2019"
   ]
  },
  {
   "cell_type": "code",
   "execution_count": 23,
   "id": "thousand-murder",
   "metadata": {
    "scrolled": true
   },
   "outputs": [
    {
     "name": "stdout",
     "output_type": "stream",
     "text": [
      "[1773030  314965 1594197 1730475 1580830 1744317  883790  891943 1755386\n",
      " 1081198 1549408 1508120 1630709 1260468 1666613]\n"
     ]
    },
    {
     "data": {
      "text/plain": [
       "<matplotlib.axes._subplots.AxesSubplot at 0x277c4a1d790>"
      ]
     },
     "execution_count": 23,
     "metadata": {},
     "output_type": "execute_result"
    },
    {
     "data": {
      "image/png": "[encoded data removed]",
      "text/plain": [
       "<Figure size 432x288 with 1 Axes>"
      ]
     },
     "metadata": {
      "needs_background": "light"
     },
     "output_type": "display_data"
    }
   ],
   "source": [
    "print(df_dict['df4']['cik'].unique())\n",
    "df_dict['df4']['cik'].hist(bins=50)"
   ]
  },
  {
   "cell_type": "markdown",
   "id": "wrong-discovery",
   "metadata": {},
   "source": [
    "Histograms for \"ciks\" in 2020"
   ]
  },
  {
   "cell_type": "code",
   "execution_count": 24,
   "id": "continued-jenny",
   "metadata": {},
   "outputs": [
    {
     "name": "stdout",
     "output_type": "stream",
     "text": [
      "[1129770 1733510 1665018 1846995 1842509 1315828 1626379  750641 1495703\n",
      " 1386364 1717658 1344551 1570251 1793367 1594417 1727605 1830008 1708872\n",
      " 1387723 1712533 1740316 1831193 1591986  883790 1812178  903944 1747799\n",
      " 1818044 1549042  932540 1456114 1760263 1566601 1766907 1713936 1589282\n",
      " 1055544 1549408 1641643 1032814 1323119 1759760 1534468 1009254 1600085\n",
      " 1844831 1358828 1497637 1792397 1665642 1475896 1083340 1725362 1695345\n",
      " 1681372 1602237 1845003 1549575 1161722 1387366 1753570 1713697 1622852\n",
      " 1790525 1510989 1542166 1420473 1728201 1844393  819535 1427261 1697856\n",
      " 1171592 1034642 1802516 1602020 1749890 1664656 1716539 1425165  911270\n",
      " 1729254 1078246 1757043 1559077 1631941 1276673  732847 1628896 1086763\n",
      "  921531 1751581 1534270 1744091]\n"
     ]
    },
    {
     "data": {
      "text/plain": [
       "<matplotlib.axes._subplots.AxesSubplot at 0x277c4d4cbb0>"
      ]
     },
     "execution_count": 24,
     "metadata": {},
     "output_type": "execute_result"
    },
    {
     "data": {
      "image/png": "[encoded data removed]",
      "text/plain": [
       "<Figure size 432x288 with 1 Axes>"
      ]
     },
     "metadata": {
      "needs_background": "light"
     },
     "output_type": "display_data"
    }
   ],
   "source": [
    "print(df_dict['df5']['cik'].unique())\n",
    "df_dict['df5']['cik'].hist(bins=50)"
   ]
  },
  {
   "cell_type": "markdown",
   "id": "worth-float",
   "metadata": {},
   "source": [
    "Histograms for \"ciks\" in 2021"
   ]
  },
  {
   "cell_type": "code",
   "execution_count": 25,
   "id": "joined-advantage",
   "metadata": {},
   "outputs": [
    {
     "name": "stdout",
     "output_type": "stream",
     "text": [
      "[1369702 1777127 1765278 1426960 1056821 1745885 1839735 1566601 1727917\n",
      " 1510809 1577216 1317802 1790525 1749744 1666613]\n"
     ]
    },
    {
     "data": {
      "text/plain": [
       "<matplotlib.axes._subplots.AxesSubplot at 0x277c4ac0a00>"
      ]
     },
     "execution_count": 25,
     "metadata": {},
     "output_type": "execute_result"
    },
    {
     "data": {
      "image/png": "[encoded data removed]",
      "text/plain": [
       "<Figure size 432x288 with 1 Axes>"
      ]
     },
     "metadata": {
      "needs_background": "light"
     },
     "output_type": "display_data"
    }
   ],
   "source": [
    "print(df_dict['df6']['cik'].unique())\n",
    "df_dict['df6']['cik'].hist(bins=50)"
   ]
  },
  {
   "cell_type": "markdown",
   "id": "hired-tennessee",
   "metadata": {},
   "source": []
  },
  {
   "cell_type": "code",
   "execution_count": 26,
   "id": "congressional-identification",
   "metadata": {},
   "outputs": [
    {
     "data": {
      "text/html": [
       "<div>\n",
       "<style scoped>\n",
       "    .dataframe tbody tr th:only-of-type {\n",
       "        vertical-align: middle;\n",
       "    }\n",
       "\n",
       "    .dataframe tbody tr th {\n",
       "        vertical-align: top;\n",
       "    }\n",
       "\n",
       "    .dataframe thead th {\n",
       "        text-align: right;\n",
       "    }\n",
       "</style>\n",
       "<table border=\"1\" class=\"dataframe\">\n",
       "  <thead>\n",
       "    <tr style=\"text-align: right;\">\n",
       "      <th></th>\n",
       "      <th>report_end_date</th>\n",
       "      <th>cik</th>\n",
       "      <th>nameOfIssuer</th>\n",
       "      <th>titleOfClass</th>\n",
       "      <th>cusip</th>\n",
       "      <th>value</th>\n",
       "      <th>sshPrnamt</th>\n",
       "      <th>sshPrnamtType</th>\n",
       "      <th>value_per_share</th>\n",
       "      <th>value_log</th>\n",
       "      <th>sshPrnamt_log</th>\n",
       "      <th>valuePerShare_log</th>\n",
       "      <th>Year</th>\n",
       "      <th>Month</th>\n",
       "      <th>day</th>\n",
       "    </tr>\n",
       "  </thead>\n",
       "  <tbody>\n",
       "    <tr>\n",
       "      <th>0</th>\n",
       "      <td>2020-09-30</td>\n",
       "      <td>1129770</td>\n",
       "      <td>SPDR S&amp;P 500</td>\n",
       "      <td>COM</td>\n",
       "      <td>824348106</td>\n",
       "      <td>70889608000</td>\n",
       "      <td>211680</td>\n",
       "      <td>SH</td>\n",
       "      <td>334890.438398</td>\n",
       "      <td>24.984390</td>\n",
       "      <td>12.262831</td>\n",
       "      <td>12.721559</td>\n",
       "      <td>2020</td>\n",
       "      <td>9</td>\n",
       "      <td>30</td>\n",
       "    </tr>\n",
       "    <tr>\n",
       "      <th>1</th>\n",
       "      <td>2020-09-30</td>\n",
       "      <td>1129770</td>\n",
       "      <td>SPDR Dow Jones Ind</td>\n",
       "      <td>COM</td>\n",
       "      <td>78467x109</td>\n",
       "      <td>29886300000</td>\n",
       "      <td>107698</td>\n",
       "      <td>SH</td>\n",
       "      <td>277500.974948</td>\n",
       "      <td>24.120666</td>\n",
       "      <td>11.587086</td>\n",
       "      <td>12.533580</td>\n",
       "      <td>2020</td>\n",
       "      <td>9</td>\n",
       "      <td>30</td>\n",
       "    </tr>\n",
       "    <tr>\n",
       "      <th>2</th>\n",
       "      <td>2020-09-30</td>\n",
       "      <td>1129770</td>\n",
       "      <td>Ishares Russell</td>\n",
       "      <td>COM</td>\n",
       "      <td>464287622</td>\n",
       "      <td>26825894000</td>\n",
       "      <td>143339</td>\n",
       "      <td>SH</td>\n",
       "      <td>187150.001046</td>\n",
       "      <td>24.012633</td>\n",
       "      <td>11.872968</td>\n",
       "      <td>12.139666</td>\n",
       "      <td>2020</td>\n",
       "      <td>9</td>\n",
       "      <td>30</td>\n",
       "    </tr>\n",
       "    <tr>\n",
       "      <th>3</th>\n",
       "      <td>2020-09-30</td>\n",
       "      <td>1129770</td>\n",
       "      <td>Invesco QQQ TRUST</td>\n",
       "      <td>COM</td>\n",
       "      <td>73935a104</td>\n",
       "      <td>21672909000</td>\n",
       "      <td>78005</td>\n",
       "      <td>SH</td>\n",
       "      <td>277839.997436</td>\n",
       "      <td>23.799329</td>\n",
       "      <td>11.264528</td>\n",
       "      <td>12.534801</td>\n",
       "      <td>2020</td>\n",
       "      <td>9</td>\n",
       "      <td>30</td>\n",
       "    </tr>\n",
       "    <tr>\n",
       "      <th>4</th>\n",
       "      <td>2020-09-30</td>\n",
       "      <td>1129770</td>\n",
       "      <td>iShares Russell 20</td>\n",
       "      <td>COM</td>\n",
       "      <td>464287655</td>\n",
       "      <td>9434973000</td>\n",
       "      <td>62988</td>\n",
       "      <td>SH</td>\n",
       "      <td>149790.007620</td>\n",
       "      <td>22.967689</td>\n",
       "      <td>11.050700</td>\n",
       "      <td>11.916990</td>\n",
       "      <td>2020</td>\n",
       "      <td>9</td>\n",
       "      <td>30</td>\n",
       "    </tr>\n",
       "    <tr>\n",
       "      <th>...</th>\n",
       "      <td>...</td>\n",
       "      <td>...</td>\n",
       "      <td>...</td>\n",
       "      <td>...</td>\n",
       "      <td>...</td>\n",
       "      <td>...</td>\n",
       "      <td>...</td>\n",
       "      <td>...</td>\n",
       "      <td>...</td>\n",
       "      <td>...</td>\n",
       "      <td>...</td>\n",
       "      <td>...</td>\n",
       "      <td>...</td>\n",
       "      <td>...</td>\n",
       "      <td>...</td>\n",
       "    </tr>\n",
       "    <tr>\n",
       "      <th>46767</th>\n",
       "      <td>2020-12-31</td>\n",
       "      <td>1744091</td>\n",
       "      <td>ISHARES TR</td>\n",
       "      <td>RUS 2000 GRW ETF</td>\n",
       "      <td>464287648</td>\n",
       "      <td>224000</td>\n",
       "      <td>782</td>\n",
       "      <td>SH</td>\n",
       "      <td>286.445013</td>\n",
       "      <td>12.319401</td>\n",
       "      <td>6.661855</td>\n",
       "      <td>5.657547</td>\n",
       "      <td>2020</td>\n",
       "      <td>12</td>\n",
       "      <td>31</td>\n",
       "    </tr>\n",
       "    <tr>\n",
       "      <th>46768</th>\n",
       "      <td>2020-12-31</td>\n",
       "      <td>1744091</td>\n",
       "      <td>ETF SER SOLUTIONS</td>\n",
       "      <td>US GLB JETS</td>\n",
       "      <td>26922A842</td>\n",
       "      <td>219000</td>\n",
       "      <td>9794</td>\n",
       "      <td>SH</td>\n",
       "      <td>22.360629</td>\n",
       "      <td>12.296827</td>\n",
       "      <td>9.189525</td>\n",
       "      <td>3.107302</td>\n",
       "      <td>2020</td>\n",
       "      <td>12</td>\n",
       "      <td>31</td>\n",
       "    </tr>\n",
       "    <tr>\n",
       "      <th>46769</th>\n",
       "      <td>2020-12-31</td>\n",
       "      <td>1744091</td>\n",
       "      <td>BEYOND MEAT INC</td>\n",
       "      <td>COM</td>\n",
       "      <td>08862E109</td>\n",
       "      <td>218000</td>\n",
       "      <td>1740</td>\n",
       "      <td>SH</td>\n",
       "      <td>125.287356</td>\n",
       "      <td>12.292250</td>\n",
       "      <td>7.461640</td>\n",
       "      <td>4.830610</td>\n",
       "      <td>2020</td>\n",
       "      <td>12</td>\n",
       "      <td>31</td>\n",
       "    </tr>\n",
       "    <tr>\n",
       "      <th>46770</th>\n",
       "      <td>2020-12-31</td>\n",
       "      <td>1744091</td>\n",
       "      <td>SUNPOWER CORP</td>\n",
       "      <td>COM</td>\n",
       "      <td>867652406</td>\n",
       "      <td>213000</td>\n",
       "      <td>8310</td>\n",
       "      <td>SH</td>\n",
       "      <td>25.631769</td>\n",
       "      <td>12.269047</td>\n",
       "      <td>9.025215</td>\n",
       "      <td>3.243833</td>\n",
       "      <td>2020</td>\n",
       "      <td>12</td>\n",
       "      <td>31</td>\n",
       "    </tr>\n",
       "    <tr>\n",
       "      <th>46771</th>\n",
       "      <td>2020-12-31</td>\n",
       "      <td>1744091</td>\n",
       "      <td>LOCKHEED MARTIN CORP</td>\n",
       "      <td>COM</td>\n",
       "      <td>539830109</td>\n",
       "      <td>202000</td>\n",
       "      <td>570</td>\n",
       "      <td>SH</td>\n",
       "      <td>354.385965</td>\n",
       "      <td>12.216023</td>\n",
       "      <td>6.345636</td>\n",
       "      <td>5.870387</td>\n",
       "      <td>2020</td>\n",
       "      <td>12</td>\n",
       "      <td>31</td>\n",
       "    </tr>\n",
       "  </tbody>\n",
       "</table>\n",
       "<p>46771 rows × 15 columns</p>\n",
       "</div>"
      ],
      "text/plain": [
       "      report_end_date      cik              nameOfIssuer      titleOfClass  \\\n",
       "0          2020-09-30  1129770  SPDR S&P 500                           COM   \n",
       "1          2020-09-30  1129770  SPDR Dow Jones Ind                     COM   \n",
       "2          2020-09-30  1129770  Ishares Russell                        COM   \n",
       "3          2020-09-30  1129770  Invesco QQQ TRUST                      COM   \n",
       "4          2020-09-30  1129770  iShares Russell 20                     COM   \n",
       "...               ...      ...                       ...               ...   \n",
       "46767      2020-12-31  1744091                ISHARES TR  RUS 2000 GRW ETF   \n",
       "46768      2020-12-31  1744091         ETF SER SOLUTIONS       US GLB JETS   \n",
       "46769      2020-12-31  1744091           BEYOND MEAT INC               COM   \n",
       "46770      2020-12-31  1744091             SUNPOWER CORP               COM   \n",
       "46771      2020-12-31  1744091      LOCKHEED MARTIN CORP               COM   \n",
       "\n",
       "           cusip        value  sshPrnamt sshPrnamtType  value_per_share  \\\n",
       "0      824348106  70889608000     211680            SH    334890.438398   \n",
       "1      78467x109  29886300000     107698            SH    277500.974948   \n",
       "2      464287622  26825894000     143339            SH    187150.001046   \n",
       "3      73935a104  21672909000      78005            SH    277839.997436   \n",
       "4      464287655   9434973000      62988            SH    149790.007620   \n",
       "...          ...          ...        ...           ...              ...   \n",
       "46767  464287648       224000        782            SH       286.445013   \n",
       "46768  26922A842       219000       9794            SH        22.360629   \n",
       "46769  08862E109       218000       1740            SH       125.287356   \n",
       "46770  867652406       213000       8310            SH        25.631769   \n",
       "46771  539830109       202000        570            SH       354.385965   \n",
       "\n",
       "       value_log  sshPrnamt_log  valuePerShare_log  Year  Month  day  \n",
       "0      24.984390      12.262831          12.721559  2020      9   30  \n",
       "1      24.120666      11.587086          12.533580  2020      9   30  \n",
       "2      24.012633      11.872968          12.139666  2020      9   30  \n",
       "3      23.799329      11.264528          12.534801  2020      9   30  \n",
       "4      22.967689      11.050700          11.916990  2020      9   30  \n",
       "...          ...            ...                ...   ...    ...  ...  \n",
       "46767  12.319401       6.661855           5.657547  2020     12   31  \n",
       "46768  12.296827       9.189525           3.107302  2020     12   31  \n",
       "46769  12.292250       7.461640           4.830610  2020     12   31  \n",
       "46770  12.269047       9.025215           3.243833  2020     12   31  \n",
       "46771  12.216023       6.345636           5.870387  2020     12   31  \n",
       "\n",
       "[46771 rows x 15 columns]"
      ]
     },
     "execution_count": 26,
     "metadata": {},
     "output_type": "execute_result"
    }
   ],
   "source": [
    "df"
   ]
  }
 ],
 "metadata": {
  "kernelspec": {
   "display_name": "Python 3",
   "language": "python",
   "name": "python3"
  },
  "language_info": {
   "codemirror_mode": {
    "name": "ipython",
    "version": 3
   },
   "file_extension": ".py",
   "mimetype": "text/x-python",
   "name": "python",
   "nbconvert_exporter": "python",
   "pygments_lexer": "ipython3",
   "version": "3.8.3"
  },
  "toc": {
   "base_numbering": 1,
   "nav_menu": {},
   "number_sections": true,
   "sideBar": true,
   "skip_h1_title": false,
   "title_cell": "Table of Contents",
   "title_sidebar": "Contents",
   "toc_cell": false,
   "toc_position": {},
   "toc_section_display": true,
   "toc_window_display": false
  },
  "varInspector": {
   "cols": {
    "lenName": 16,
    "lenType": 16,
    "lenVar": 40
   },
   "kernels_config": {
    "python": {
     "delete_cmd_postfix": "",
     "delete_cmd_prefix": "del ",
     "library": "var_list.py",
     "varRefreshCmd": "print(var_dic_list())"
    },
    "r": {
     "delete_cmd_postfix": ") ",
     "delete_cmd_prefix": "rm(",
     "library": "var_list.r",
     "varRefreshCmd": "cat(var_dic_list()) "
    }
   },
   "types_to_exclude": [
    "module",
    "function",
    "builtin_function_or_method",
    "instance",
    "_Feature"
   ],
   "window_display": false
  }
 },
 "nbformat": 4,
 "nbformat_minor": 5
}
