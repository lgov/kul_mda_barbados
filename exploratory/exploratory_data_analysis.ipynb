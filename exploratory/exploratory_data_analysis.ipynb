{
 "cells": [
  {
   "cell_type": "markdown",
   "id": "dutch-perfume",
   "metadata": {},
   "source": [
    "# Import data"
   ]
  },
  {
   "cell_type": "code",
   "execution_count": null,
   "id": "crucial-shoulder",
   "metadata": {},
   "outputs": [],
   "source": [
    "import pandas as pd\n",
    "import numpy as np\n",
    "\n",
    "df = pd.read_excel (r'../data/all_submission_files.xlsx')\n",
    "print(df)"
   ]
  },
  {
   "cell_type": "markdown",
   "id": "compact-affair",
   "metadata": {},
   "source": [
    "# check for missing values"
   ]
  },
  {
   "cell_type": "code",
   "execution_count": null,
   "id": "welcome-application",
   "metadata": {},
   "outputs": [],
   "source": [
    "df.isna().sum()"
   ]
  },
  {
   "cell_type": "markdown",
   "id": "ambient-auction",
   "metadata": {},
   "source": [
    "## drop missing values (remove rows having missing values)"
   ]
  },
  {
   "cell_type": "code",
   "execution_count": null,
   "id": "seven-model",
   "metadata": {},
   "outputs": [],
   "source": [
    "df = df.dropna(axis=0)"
   ]
  },
  {
   "cell_type": "markdown",
   "id": "healthy-burlington",
   "metadata": {},
   "source": [
    "only one row is deleted due to missing values in the columns nameofIssuer and titleOfClass"
   ]
  },
  {
   "cell_type": "markdown",
   "id": "hindu-enlargement",
   "metadata": {},
   "source": [
    "convert imported data into a dataframe and print the first 10 rows"
   ]
  },
  {
   "cell_type": "code",
   "execution_count": null,
   "id": "failing-manor",
   "metadata": {},
   "outputs": [],
   "source": [
    "print('Dimension of the dataframe:',df.shape)\n",
    "df.head(10)"
   ]
  },
  {
   "cell_type": "markdown",
   "id": "adaptive-telling",
   "metadata": {},
   "source": [
    "drop all missing values using the dropna() function"
   ]
  },
  {
   "cell_type": "code",
   "execution_count": null,
   "id": "conservative-hypothesis",
   "metadata": {},
   "outputs": [],
   "source": [
    "df.dropna(how='any',inplace=True)"
   ]
  },
  {
   "cell_type": "markdown",
   "id": "subject-silly",
   "metadata": {},
   "source": [
    "# Data Formatting"
   ]
  },
  {
   "cell_type": "markdown",
   "id": "african-month",
   "metadata": {},
   "source": [
    "examine the different data types"
   ]
  },
  {
   "cell_type": "code",
   "execution_count": null,
   "id": "continuous-middle",
   "metadata": {},
   "outputs": [],
   "source": [
    "df.dtypes"
   ]
  },
  {
   "cell_type": "markdown",
   "id": "molecular-fairy",
   "metadata": {},
   "source": [
    "descriptive statistics of the numerical variables"
   ]
  },
  {
   "cell_type": "code",
   "execution_count": null,
   "id": "dirty-diagram",
   "metadata": {},
   "outputs": [],
   "source": [
    "df.describe()"
   ]
  },
  {
   "cell_type": "markdown",
   "id": "statewide-moses",
   "metadata": {},
   "source": [
    "cik column also used but this has no meaning => drop this column.\n",
    "descriptive statistics of the 2 numerical variables (value and sshPrnamt)"
   ]
  },
  {
   "cell_type": "code",
   "execution_count": null,
   "id": "engaging-retrieval",
   "metadata": {},
   "outputs": [],
   "source": [
    "cols = set(df) - {'cik'}\n",
    "df1 = df[list(cols)]\n",
    "df1.describe()"
   ]
  },
  {
   "cell_type": "markdown",
   "id": "technical-fraction",
   "metadata": {},
   "source": [
    "Make the data unique and homogenous"
   ]
  },
  {
   "cell_type": "code",
   "execution_count": null,
   "id": "subject-dragon",
   "metadata": {},
   "outputs": [],
   "source": [
    "df['cusip'].unique()"
   ]
  },
  {
   "cell_type": "code",
   "execution_count": null,
   "id": "ranking-currency",
   "metadata": {},
   "outputs": [],
   "source": [
    "df['cusip'] = df['cusip'].str.upper()\n",
    "df.head()['cusip']"
   ]
  },
  {
   "cell_type": "markdown",
   "id": "convinced-converter",
   "metadata": {},
   "source": [
    "# create new variable with value per share\n",
    "if sshPrnamtType = PRN => value per share = sshPrnamt\n",
    "\n",
    "if sshPrnamtType = SH => value per share = (value * 1000) / sshPrnamt\n",
    "Todo: not that the dataset now has values already x 1000, so this calculation is not needed anymore.\n",
    "Note: some filings contain the exact values, not values / 1000 so these will be wildly incorrect."
   ]
  },
  {
   "cell_type": "markdown",
   "id": "spoken-bookmark",
   "metadata": {},
   "source": [
    "it seems that the same concept is never represented in different ways so we don't need to manipulate them"
   ]
  },
  {
   "cell_type": "code",
   "execution_count": null,
   "id": "perfect-mixer",
   "metadata": {},
   "outputs": [],
   "source": [
    "#df['value_per_share'] = np.where(df['sshPrnamtType']=='SH',((df['value']*1000)/df['sshPrnamt']),\n",
    "#                                  np.where(df['sshPrnamtType']=='PRN',df['sshPrnamt'], 0))\n",
    "df['value_per_share'] = df['value'] / df['sshPrnamt']"
   ]
  },
  {
   "cell_type": "code",
   "execution_count": null,
   "id": "gross-humanity",
   "metadata": {},
   "outputs": [],
   "source": [
    "print(df[['nameOfIssuer','value_per_share']])"
   ]
  },
  {
   "cell_type": "code",
   "execution_count": null,
   "id": "corporate-solid",
   "metadata": {},
   "outputs": [],
   "source": [
    "df.describe()"
   ]
  },
  {
   "cell_type": "markdown",
   "id": "technical-charger",
   "metadata": {},
   "source": [
    " # Normalisation"
   ]
  },
  {
   "cell_type": "markdown",
   "id": "opened-jurisdiction",
   "metadata": {},
   "source": [
    "Trying to plot histograms for data in columns 'sshPrnamt' and 'values'. Both cannot be ploted, so listed value_counts() in the following to see the distribution of the data in those two columns. The distribution of the data seems skewed. "
   ]
  },
  {
   "cell_type": "code",
   "execution_count": null,
   "id": "bibliographic-understanding",
   "metadata": {},
   "outputs": [],
   "source": [
    "df['sshPrnamt'].hist(bins=15)"
   ]
  },
  {
   "cell_type": "code",
   "execution_count": null,
   "id": "premier-willow",
   "metadata": {},
   "outputs": [],
   "source": [
    "df['sshPrnamt'].value_counts()"
   ]
  },
  {
   "cell_type": "code",
   "execution_count": null,
   "id": "commercial-rebel",
   "metadata": {},
   "outputs": [],
   "source": [
    "df['value'].value_counts()"
   ]
  },
  {
   "cell_type": "markdown",
   "id": "guilty-garden",
   "metadata": {},
   "source": [
    "Because of the skewed characteristics of the data in columns, we copy the columns \"sshPrnamt\",\"value\" and \"value_per_share\" and normalise them by log scaling."
   ]
  },
  {
   "cell_type": "code",
   "execution_count": null,
   "id": "final-quick",
   "metadata": {},
   "outputs": [],
   "source": [
    "df['value_log'] = df['value'].apply(lambda x: np.log(x) if x != 0 else 0)\n",
    "df['value_log'].hist(bins=15)"
   ]
  },
  {
   "cell_type": "code",
   "execution_count": null,
   "id": "adult-parcel",
   "metadata": {},
   "outputs": [],
   "source": [
    "df['sshPrnamt_log'] = df['sshPrnamt'].apply(lambda x: np.log(x) if x != 0 else 0)\n",
    "df['sshPrnamt_log'].hist(bins=15) "
   ]
  },
  {
   "cell_type": "code",
   "execution_count": null,
   "id": "connected-sessions",
   "metadata": {},
   "outputs": [],
   "source": [
    "df['valuePerShare_log'] = df['value_per_share'].apply(lambda x: np.log(x) if x != 0 else 0)\n",
    "df['valuePerShare_log'].hist(bins=15)"
   ]
  },
  {
   "cell_type": "markdown",
   "id": "capital-treatment",
   "metadata": {},
   "source": [
    "Separate 'report_end_date' into Year, Month and day."
   ]
  },
  {
   "cell_type": "code",
   "execution_count": null,
   "id": "chief-pattern",
   "metadata": {},
   "outputs": [],
   "source": [
    "df['Year'] = pd.DatetimeIndex(df['report_end_date']).year\n",
    "df['Month'] = pd.DatetimeIndex(df['report_end_date']).month\n",
    "df['day'] = pd.DatetimeIndex(df['report_end_date']).day"
   ]
  },
  {
   "cell_type": "markdown",
   "id": "settled-attendance",
   "metadata": {},
   "source": [
    "Make dataframes according to year for annual analysis"
   ]
  },
  {
   "cell_type": "code",
   "execution_count": null,
   "id": "phantom-chocolate",
   "metadata": {},
   "outputs": [],
   "source": [
    "df_dict = {f'df{i}': d for i, (g, d) in enumerate(df.groupby('Year'))}\n",
    "print(df_dict.keys())"
   ]
  },
  {
   "cell_type": "markdown",
   "id": "seasonal-publisher",
   "metadata": {},
   "source": [
    "Histograms for \"ciks\" in 2015"
   ]
  },
  {
   "cell_type": "code",
   "execution_count": null,
   "id": "following-spanking",
   "metadata": {},
   "outputs": [],
   "source": [
    "print(df_dict['df0']['cik'].unique())\n",
    "df_dict['df0']['cik'].hist(bins=10)"
   ]
  },
  {
   "cell_type": "markdown",
   "id": "acoustic-letters",
   "metadata": {},
   "source": [
    "Histograms for \"ciks\" in 2016"
   ]
  },
  {
   "cell_type": "code",
   "execution_count": null,
   "id": "original-potential",
   "metadata": {},
   "outputs": [],
   "source": [
    "print(df_dict['df1']['cik'].unique())\n",
    "df_dict['df1']['cik'].hist(bins=50)"
   ]
  },
  {
   "cell_type": "markdown",
   "id": "curious-screen",
   "metadata": {},
   "source": [
    "Histograms for \"ciks\" in 2017"
   ]
  },
  {
   "cell_type": "code",
   "execution_count": null,
   "id": "arabic-terror",
   "metadata": {},
   "outputs": [],
   "source": [
    "print(df_dict['df2']['cik'].unique())\n",
    "df_dict['df2']['cik'].hist(bins=50)"
   ]
  },
  {
   "cell_type": "markdown",
   "id": "chronic-rocket",
   "metadata": {},
   "source": [
    "Histograms for \"ciks\" in 2018"
   ]
  },
  {
   "cell_type": "code",
   "execution_count": null,
   "id": "suburban-orbit",
   "metadata": {},
   "outputs": [],
   "source": [
    "print(df_dict['df3']['cik'].unique())\n",
    "df_dict['df3']['cik'].hist(bins=50)"
   ]
  },
  {
   "cell_type": "markdown",
   "id": "prerequisite-initial",
   "metadata": {},
   "source": [
    "Histograms for \"ciks\" in 2019"
   ]
  },
  {
   "cell_type": "code",
   "execution_count": null,
   "id": "through-minute",
   "metadata": {},
   "outputs": [],
   "source": [
    "print(df_dict['df4']['cik'].unique())\n",
    "df_dict['df4']['cik'].hist(bins=50)"
   ]
  },
  {
   "cell_type": "markdown",
   "id": "burning-sword",
   "metadata": {},
   "source": [
    "Histograms for \"ciks\" in 2020"
   ]
  },
  {
   "cell_type": "code",
   "execution_count": null,
   "id": "marine-judge",
   "metadata": {},
   "outputs": [],
   "source": [
    "print(df_dict['df5']['cik'].unique())\n",
    "df_dict['df5']['cik'].hist(bins=50)"
   ]
  },
  {
   "cell_type": "markdown",
   "id": "utility-furniture",
   "metadata": {},
   "source": [
    "Histograms for \"ciks\" in 2021"
   ]
  },
  {
   "cell_type": "code",
   "execution_count": null,
   "id": "sustainable-coordinator",
   "metadata": {},
   "outputs": [],
   "source": [
    "print(df_dict['df6']['cik'].unique())\n",
    "df_dict['df6']['cik'].hist(bins=50)"
   ]
  },
  {
   "cell_type": "markdown",
   "id": "identified-purchase",
   "metadata": {},
   "source": []
  },
  {
   "cell_type": "code",
   "execution_count": null,
   "id": "industrial-preference",
   "metadata": {},
   "outputs": [],
   "source": [
    "df"
   ]
  }
 ],
 "metadata": {
  "kernelspec": {
   "display_name": "Python 3",
   "language": "python",
   "name": "python3"
  },
  "language_info": {
   "codemirror_mode": {
    "name": "ipython",
    "version": 3
   },
   "file_extension": ".py",
   "mimetype": "text/x-python",
   "name": "python",
   "nbconvert_exporter": "python",
   "pygments_lexer": "ipython3",
   "version": "3.8.6"
  },
  "toc": {
   "base_numbering": 1,
   "nav_menu": {},
   "number_sections": true,
   "sideBar": true,
   "skip_h1_title": false,
   "title_cell": "Table of Contents",
   "title_sidebar": "Contents",
   "toc_cell": false,
   "toc_position": {},
   "toc_section_display": true,
   "toc_window_display": false
  },
  "varInspector": {
   "cols": {
    "lenName": 16,
    "lenType": 16,
    "lenVar": 40
   },
   "kernels_config": {
    "python": {
     "delete_cmd_postfix": "",
     "delete_cmd_prefix": "del ",
     "library": "var_list.py",
     "varRefreshCmd": "print(var_dic_list())"
    },
    "r": {
     "delete_cmd_postfix": ") ",
     "delete_cmd_prefix": "rm(",
     "library": "var_list.r",
     "varRefreshCmd": "cat(var_dic_list()) "
    }
   },
   "types_to_exclude": [
    "module",
    "function",
    "builtin_function_or_method",
    "instance",
    "_Feature"
   ],
   "window_display": false
  }
 },
 "nbformat": 4,
 "nbformat_minor": 5
}
