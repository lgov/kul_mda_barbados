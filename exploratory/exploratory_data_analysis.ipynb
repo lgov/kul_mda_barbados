{
 "cells": [
  {
   "cell_type": "markdown",
   "id": "368b5ad4",
   "metadata": {},
   "source": [
    "# Import data"
   ]
  },
  {
   "cell_type": "code",
   "execution_count": null,
   "id": "447b7725",
   "metadata": {},
   "outputs": [],
   "source": [
    "import pandas as pd\n",
    "\n",
    "df = pd.read_excel (r'../data/all_submission_files.xlsx')\n",
    "print(df)"
   ]
  },
  {
   "cell_type": "markdown",
   "id": "283c9fcd",
   "metadata": {},
   "source": [
    "# check for missing values"
   ]
  },
  {
   "cell_type": "code",
   "execution_count": null,
   "id": "7034a1b7",
   "metadata": {},
   "outputs": [],
   "source": [
    "df.isna().sum()"
   ]
  },
  {
   "cell_type": "markdown",
   "id": "8f055b9e",
   "metadata": {},
   "source": [
    "## drop missing values (remove rows having missing values)"
   ]
  },
  {
   "cell_type": "code",
   "execution_count": null,
   "id": "9ae5e2c5",
   "metadata": {},
   "outputs": [],
   "source": [
    "df.dropna(axis=0)"
   ]
  },
  {
   "cell_type": "markdown",
   "id": "f16e61b4",
   "metadata": {},
   "source": [
    "only one row is deleted due to missing values in the columns nameofIssuer and titleOfClass"
   ]
  },
  {
   "cell_type": "markdown",
   "id": "b66fb639",
   "metadata": {},
   "source": [
    "# Data Formatting"
   ]
  },
  {
   "cell_type": "markdown",
   "id": "78b6cf00",
   "metadata": {},
   "source": [
    "convert imported data into a dataframe and print the first 10 rows"
   ]
  },
  {
   "cell_type": "code",
   "execution_count": null,
   "id": "ecfb993f",
   "metadata": {},
   "outputs": [],
   "source": [
    "print('Dimension of the dataframe:',df.shape)\n",
    "df.head(10)"
   ]
  },
  {
   "cell_type": "markdown",
   "id": "fbab10f5",
   "metadata": {},
   "source": [
    "drop all missing values using the dropna() function"
   ]
  },
  {
   "cell_type": "code",
   "execution_count": null,
   "id": "c49a22f3",
   "metadata": {},
   "outputs": [],
   "source": [
    "df.dropna(how='any',inplace=True)"
   ]
  },
  {
   "cell_type": "markdown",
   "id": "bf725a2b",
   "metadata": {},
   "source": [
    "examine the different data types"
   ]
  },
  {
   "cell_type": "code",
   "execution_count": null,
   "id": "e54d84e3",
   "metadata": {},
   "outputs": [],
   "source": [
    "df.dtypes"
   ]
  },
  {
   "cell_type": "markdown",
   "id": "52c898f9",
   "metadata": {},
   "source": [
    "descriptive statistics of the numerical variables"
   ]
  },
  {
   "cell_type": "code",
   "execution_count": null,
   "id": "a585c5de",
   "metadata": {},
   "outputs": [],
   "source": [
    "df.describe()"
   ]
  },
  {
   "cell_type": "markdown",
   "id": "960cb725",
   "metadata": {},
   "source": [
    "cik column also used but this has no meaning => drop this column.\n",
    "descriptive statistics of the 2 numerical variables (value and sshPrnamt)"
   ]
  },
  {
   "cell_type": "code",
   "execution_count": null,
   "id": "d7fa01d5",
   "metadata": {},
   "outputs": [],
   "source": [
    "cols = set(df) - {'cik'}\n",
    "df1 = df[list(cols)]\n",
    "df1.describe()"
   ]
  },
  {
   "cell_type": "code",
   "execution_count": null,
   "id": "3548efa6",
   "metadata": {},
   "outputs": [],
   "source": [
    "df['cusip'].unique()"
   ]
  },
  {
   "cell_type": "markdown",
   "id": "ab1156eb",
   "metadata": {},
   "source": [
    "it seems that the same concept is never represented in different ways so we don't need to manipulate them"
   ]
  },
  {
   "cell_type": "markdown",
   "id": "36529bd3",
   "metadata": {},
   "source": [
    "# create new variable with value per share\n",
    "if sshPrnamtType = PRN => value per share = sshPrnamt\n",
    "\n",
    "if sshPrnamtType = SH => value per share = (value * 1000) / sshPrnamt"
   ]
  },
  {
   "cell_type": "code",
   "execution_count": null,
   "id": "3816f004",
   "metadata": {},
   "outputs": [],
   "source": [
    "import numpy as np"
   ]
  },
  {
   "cell_type": "code",
   "execution_count": null,
   "id": "c46bcf4f",
   "metadata": {},
   "outputs": [],
   "source": [
    "df['value_per_share'] = np.where(df['sshPrnamtType']=='SH',((df['value']*1000)/df['sshPrnamt']),\n",
    "                                  np.where(df['sshPrnamtType']=='PRN',df['sshPrnamt'], 0))"
   ]
  },
  {
   "cell_type": "code",
   "execution_count": null,
   "id": "33a2c5f5",
   "metadata": {},
   "outputs": [],
   "source": [
    "print(df['value_per_share'])"
   ]
  },
  {
   "cell_type": "code",
   "execution_count": null,
   "id": "d241e38f",
   "metadata": {},
   "outputs": [],
   "source": [
    "df.describe()"
   ]
  },
  {
   "cell_type": "code",
   "execution_count": null,
   "id": "b6a14ab6",
   "metadata": {},
   "outputs": [],
   "source": []
  }
 ],
 "metadata": {
  "kernelspec": {
   "display_name": "Python 3",
   "language": "python",
   "name": "python3"
  },
  "language_info": {
   "codemirror_mode": {
    "name": "ipython",
    "version": 3
   },
   "file_extension": ".py",
   "mimetype": "text/x-python",
   "name": "python",
   "nbconvert_exporter": "python",
   "pygments_lexer": "ipython3",
   "version": "3.8.6"
  }
 },
 "nbformat": 4,
 "nbformat_minor": 5
}
