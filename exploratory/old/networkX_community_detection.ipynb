{
 "cells": [
  {
   "cell_type": "markdown",
   "metadata": {},
   "source": [
    "# Community Detection with networkx"
   ]
  },
  {
   "cell_type": "markdown",
   "metadata": {},
   "source": [
    "## 1. load the required packages"
   ]
  },
  {
   "cell_type": "code",
   "execution_count": null,
   "metadata": {},
   "outputs": [],
   "source": [
    "import itertools\n",
    "import operator\n",
    "\n",
    "import numpy as np\n",
    "import pandas as pd\n",
    "import matplotlib.pyplot as plt\n",
    "%matplotlib inline\n",
    "import seaborn as sns\n",
    "\n",
    "import networkx as nx\n",
    "import networkx.algorithms.community as nxcom\n",
    "from node2vec import Node2Vec"
   ]
  },
  {
   "cell_type": "markdown",
   "metadata": {},
   "source": [
    "## 2. import dataset and obtain the preprocessed data"
   ]
  },
  {
   "cell_type": "markdown",
   "metadata": {},
   "source": [
    "### 2.1 dataset for 2020"
   ]
  },
  {
   "cell_type": "code",
   "execution_count": null,
   "metadata": {},
   "outputs": [],
   "source": [
    "df = pd.read_excel('../data/all_submission_files.xlsx')\n",
    "data=df[df[\"report_end_date\"].dt.year==2020]\n",
    "data.head(n=6)"
   ]
  },
  {
   "cell_type": "markdown",
   "metadata": {},
   "source": [
    "graph of the data"
   ]
  },
  {
   "cell_type": "code",
   "execution_count": null,
   "metadata": {},
   "outputs": [],
   "source": [
    "# Find all the possible CIK combinations (sorted) of length 2\n",
    "all_cik_pairs = list(itertools.combinations(df['cik'].unique(), 2))"
   ]
  },
  {
   "cell_type": "code",
   "execution_count": null,
   "metadata": {},
   "outputs": [],
   "source": [
    "df[df['cik']==all_cik_pairs[0][0]]"
   ]
  },
  {
   "cell_type": "code",
   "execution_count": null,
   "metadata": {},
   "outputs": [],
   "source": [
    "# For each CIK pair, find the number of overlapping cusips\n",
    "# Creates a list [[cik1, cik2], nr_of_overlapping_cusips]\n",
    "nodes_and_edges = []\n",
    "for cik_pair in all_cik_pairs:\n",
    "    df1 = df[df['cik']==cik_pair[0]]\n",
    "    df2 = df[df['cik']==cik_pair[1]]\n",
    "    nr_of_shared_cusips = len(df2[df2[\"cusip\"].isin(df1[\"cusip\"])])\n",
    "    nodes_and_edges.append([cik_pair, nr_of_shared_cusips])"
   ]
  },
  {
   "cell_type": "code",
   "execution_count": null,
   "metadata": {},
   "outputs": [],
   "source": [
    "len(nodes_and_edges)"
   ]
  },
  {
   "cell_type": "code",
   "execution_count": null,
   "metadata": {},
   "outputs": [],
   "source": [
    "# The number of nodes that are connected\n",
    "len([c for c,n in nodes_and_edges if n>0])"
   ]
  },
  {
   "cell_type": "code",
   "execution_count": null,
   "metadata": {},
   "outputs": [],
   "source": [
    "# DEBUG ONLY: take only the first 200 edges\n",
    "# nodes_and_edges = nodes_and_edges[:200]"
   ]
  },
  {
   "cell_type": "code",
   "execution_count": null,
   "metadata": {},
   "outputs": [],
   "source": [
    "# Build a network of all CIK's.\n",
    "# Add an edge between each CIK that invests in overlapping cusips, add weight +1 for each overlapping cusip\n",
    "G=nx.Graph()\n",
    "for (cik1, cik2), nr_of_shared_cusips in nodes_and_edges:\n",
    "    if nr_of_shared_cusips == 0:\n",
    "        pass\n",
    "        # Don't add the nodes that are not connected, makes the graph impossible to understand\n",
    "        # G.add_node(cik1)\n",
    "        # G.add_node(cik2)\n",
    "    elif nr_of_shared_cusips > 50:\n",
    "        # Take a mimimum amount of shared cusips for visibility\n",
    "        G.add_edge(cik1,cik2,weight=nr_of_shared_cusips)"
   ]
  },
  {
   "cell_type": "code",
   "execution_count": null,
   "metadata": {},
   "outputs": [],
   "source": [
    "node_size =  None\n",
    "edge_width = [w for _,w in nodes_and_edges]\n",
    "pos = nx.kamada_kawai_layout(G)\n",
    "plt.figure(figsize=(20,20))\n",
    "# Visualize graph components\n",
    "nx.draw_networkx_edges(G, pos, alpha=0.3, width=None, edge_color=\"m\")\n",
    "nx.draw_networkx_nodes(G, pos, node_size=None, node_color=\"#210070\", alpha=0.9)\n",
    "label_options = {\"ec\": \"k\", \"fc\": \"white\", \"alpha\": 0.7}\n",
    "# _ = nx.draw_networkx_labels(G, pos, font_size=14, bbox=label_options)"
   ]
  },
  {
   "cell_type": "code",
   "execution_count": null,
   "metadata": {},
   "outputs": [],
   "source": [
    "# Find the communities\n",
    "communities = sorted(nxcom.greedy_modularity_communities(G), key=len, reverse=True)\n",
    "# Count the communities\n",
    "print(f\"The group of investment funds has {len(communities)} communities.\")"
   ]
  },
  {
   "cell_type": "code",
   "execution_count": null,
   "metadata": {},
   "outputs": [],
   "source": [
    "# Used this example:\n",
    "# https://graphsandnetworks.com/community-detection-using-networkx/"
   ]
  },
  {
   "cell_type": "code",
   "execution_count": null,
   "metadata": {},
   "outputs": [],
   "source": [
    "# Helper functions to plot the graph with community labels\n",
    "def set_node_community(G, communities):\n",
    "    '''Add community to node attributes'''\n",
    "    for c, v_c in enumerate(communities):\n",
    "        for v in v_c:\n",
    "            # Add 1 to save 0 for external edges\n",
    "            G.nodes[v]['community'] = c + 1\n",
    "\n",
    "def set_edge_community(G):\n",
    "    '''Find internal edges and add their community to their attributes'''\n",
    "    for v, w, in G.edges:\n",
    "        if G.nodes[v]['community'] == G.nodes[w]['community']:\n",
    "            # Internal edge, mark with community\n",
    "            G.edges[v, w]['community'] = G.nodes[v]['community']\n",
    "        else:\n",
    "            # External edge, mark as 0\n",
    "            G.edges[v, w]['community'] = 0\n",
    "\n",
    "def get_color(i, r_off=1, g_off=1, b_off=1):\n",
    "    '''Assign a color to a vertex.'''\n",
    "    r0, g0, b0 = 0, 0, 0\n",
    "    n = 16\n",
    "    low, high = 0.1, 0.9\n",
    "    span = high - low\n",
    "    r = low + span * (((i + r_off) * 3) % n) / (n - 1)\n",
    "    g = low + span * (((i + g_off) * 5) % n) / (n - 1)\n",
    "    b = low + span * (((i + b_off) * 7) % n) / (n - 1)\n",
    "    return (r, g, b)"
   ]
  },
  {
   "cell_type": "code",
   "execution_count": null,
   "metadata": {},
   "outputs": [],
   "source": [
    "# Set node and edge communities\n",
    "set_node_community(G, communities)\n",
    "set_edge_community(G)\n",
    "\n",
    "node_color = [get_color(G.nodes[v]['community']) for v in G.nodes]\n",
    "\n",
    "# Set community color for edges between members of the same community (internal) and intra-community edges (external)\n",
    "external = [(v, w) for v, w in G.edges if G.edges[v, w]['community'] == 0]\n",
    "internal = [(v, w) for v, w in G.edges if G.edges[v, w]['community'] > 0]\n",
    "internal_color = ['black' for e in internal]"
   ]
  },
  {
   "cell_type": "code",
   "execution_count": null,
   "metadata": {},
   "outputs": [],
   "source": [
    "comm_pos = nx.spring_layout(G)\n",
    "\n",
    "plt.rcParams.update({'figure.figsize': (15, 10)})\n",
    "# Draw external edges\n",
    "nx.draw_networkx(\n",
    "    G,\n",
    "    pos=comm_pos,\n",
    "    node_size=0,\n",
    "    edgelist=external,\n",
    "    edge_color=\"silver\")\n",
    "# Draw nodes and internal edges\n",
    "nx.draw_networkx(\n",
    "    G,\n",
    "    pos=comm_pos,\n",
    "    node_color=node_color,\n",
    "    edgelist=internal,\n",
    "    edge_color=internal_color)"
   ]
  },
  {
   "cell_type": "code",
   "execution_count": null,
   "metadata": {},
   "outputs": [],
   "source": []
  }
 ],
 "metadata": {
  "kernelspec": {
   "display_name": "Python 3",
   "language": "python",
   "name": "python3"
  },
  "language_info": {
   "codemirror_mode": {
    "name": "ipython",
    "version": 3
   },
   "file_extension": ".py",
   "mimetype": "text/x-python",
   "name": "python",
   "nbconvert_exporter": "python",
   "pygments_lexer": "ipython3",
   "version": "3.8.6"
  }
 },
 "nbformat": 4,
 "nbformat_minor": 4
}
