{
 "cells": [
  {
   "cell_type": "markdown",
   "metadata": {},
   "source": [
    "# Clustering analysis\n",
    "\n",
    "## 1.Loading the essentical package"
   ]
  },
  {
   "cell_type": "code",
   "execution_count": null,
   "metadata": {},
   "outputs": [],
   "source": [
    "from pandas import Series,DataFrame\n",
    "import seaborn as sns\n",
    "import pandas as pd\n",
    "from matplotlib import pyplot as plt\n",
    "import numpy\n",
    "from sklearn.decomposition import PCA\n",
    "from sklearn.cluster import KMeans\n",
    "import numpy as np"
   ]
  },
  {
   "cell_type": "markdown",
   "metadata": {},
   "source": [
    "## 2. Import the dataset and obtain the preprocessed data\n",
    "\n",
    "### 2.1 Get dataset fro a certain year\n",
    "Data for 2020 is obtained firstly as example"
   ]
  },
  {
   "cell_type": "code",
   "execution_count": null,
   "metadata": {},
   "outputs": [],
   "source": [
    "df = pd.read_excel(\"all_submission_files.xlsx\")\n",
    "data = df[df[\"report_end_date\"].dt.year == 2020]\n",
    "data.head(n=6)"
   ]
  },
  {
   "cell_type": "markdown",
   "metadata": {},
   "source": [
    "### 2.2 Summary dataset\n",
    "Get the number of stocks and total amount of each company’s investment in stocks in 2020"
   ]
  },
  {
   "cell_type": "code",
   "execution_count": null,
   "metadata": {},
   "outputs": [],
   "source": [
    "data_summary = data.groupby('cik').agg({'value': ['sum', 'count']})\n",
    "index_name = data_summary.index\n",
    "total_value = []\n",
    "number_stocks = []\n",
    "for i in range(0, len(data_summary)):\n",
    "  total_value.append(data_summary.values[i, 0])\n",
    "  number_stocks.append(data_summary.values[i, 1])\n",
    "data_final = {'cik':index_name,'number_stocks': number_stocks, 'total_value': total_value}\n",
    "data_final = DataFrame(data_final)\n",
    "data_final = data_final.drop(data_final[data_final['total_value']==0].index)\n",
    "data_final.head(n=6)"
   ]
  },
  {
   "cell_type": "markdown",
   "metadata": {},
   "source": [
    "### 2.3 Adjust the data scale\n",
    "Log the data value of total_value and number_stocks"
   ]
  },
  {
   "cell_type": "code",
   "execution_count": null,
   "metadata": {},
   "outputs": [],
   "source": [
    "data_log = data_final.copy()\n",
    "data_log['number_stocks'] = numpy.log(data_log['number_stocks'])\n",
    "data_log['total_value'] = numpy.log(data_log['total_value'])\n",
    "data_log.head(n=6)"
   ]
  },
  {
   "cell_type": "markdown",
   "metadata": {},
   "source": [
    "## 3. Visualize the data\n",
    "\n",
    "### 3.1 Plot the dataset (log) "
   ]
  },
  {
   "cell_type": "code",
   "execution_count": null,
   "metadata": {},
   "outputs": [],
   "source": [
    "data_label= data_log[(data_log.total_value>15)|(data_log.total_value<11)]\n",
    "fig=plt.figure(figsize=(12, 13))\n",
    "sns.lmplot(x='number_stocks',y='total_value',data=data_log,fit_reg=True) \n",
    "for i in range (len(data_label)):\n",
    "    plt.annotate(data_label['cik'].iloc[i],(data_label['number_stocks'].iloc[i],data_label['total_value'].iloc[i]))"
   ]
  },
  {
   "cell_type": "markdown",
   "metadata": {},
   "source": [
    "### 3.2 Get the suitable number of clusters "
   ]
  },
  {
   "cell_type": "code",
   "execution_count": null,
   "metadata": {},
   "outputs": [],
   "source": [
    "wcss = []\n",
    "n=11\n",
    "data_analysis = data_log.drop(columns=\"cik\")\n",
    "if len(data_analysis)<11:\n",
    "    n=len(data_analysis)\n",
    "for i in range(1, n):\n",
    "    kmeans = KMeans(n_clusters=i, init='k-means++', max_iter=300, n_init=10, random_state=0)\n",
    "    kmeans.fit(data_analysis)\n",
    "    wcss.append(kmeans.inertia_)\n",
    "plt.figure()\n",
    "plt.plot(range(1, n), wcss)\n",
    "plt.title('Elbow Method')\n",
    "plt.xlabel('Number of clusters')\n",
    "plt.ylabel('WCSS')"
   ]
  },
  {
   "cell_type": "markdown",
   "metadata": {},
   "source": [
    "### 3.3 Clustering analysis (two component and 6 cluster)"
   ]
  },
  {
   "cell_type": "code",
   "execution_count": null,
   "metadata": {},
   "outputs": [],
   "source": [
    "pca = PCA(2)\n",
    "data_cluster = pca.fit_transform(data_analysis)\n",
    "kmeans = KMeans(n_clusters=6)\n",
    "label = kmeans.fit_predict(data_cluster)\n",
    "centroids = kmeans.cluster_centers_\n",
    "u_labels = np.unique(label)\n",
    "plt.figure()\n",
    "for i in u_labels:\n",
    "    plt.scatter(data_cluster[label == i, 0], data_cluster[label == i, 1], label=i)\n",
    "plt.scatter(centroids[:, 0], centroids[:, 1], s=80, color=\"black\")\n",
    "plt.legend()\n"
   ]
  },
  {
   "cell_type": "markdown",
   "metadata": {},
   "source": [
    "### 3.4 Obtain the cik of different clusters"
   ]
  },
  {
   "cell_type": "code",
   "execution_count": null,
   "metadata": {},
   "outputs": [],
   "source": [
    "def get_cik (label_n):\n",
    "    label_list = pca.inverse_transform(data_cluster[label==label_n])\n",
    "    cik = []\n",
    "    for i in range(len(label_list)):\n",
    "        cik.append(data_log[round(data_log['total_value'],5)==round(label_list[i][1],5)]['cik'].values[0])\n",
    "    return cik"
   ]
  },
  {
   "cell_type": "code",
   "execution_count": null,
   "metadata": {},
   "outputs": [],
   "source": [
    "cik_all=[]\n",
    "for i in u_labels:\n",
    "    cik_all.append(get_cik(i))\n",
    "len(cik_all)  "
   ]
  },
  {
   "cell_type": "code",
   "execution_count": null,
   "metadata": {},
   "outputs": [],
   "source": [
    "cik_all[3] # the all cik of culster 4"
   ]
  }
 ],
 "metadata": {
  "kernelspec": {
   "display_name": "Python 3",
   "language": "python",
   "name": "python3"
  },
  "language_info": {
   "codemirror_mode": {
    "name": "ipython",
    "version": 3
   },
   "file_extension": ".py",
   "mimetype": "text/x-python",
   "name": "python",
   "nbconvert_exporter": "python",
   "pygments_lexer": "ipython3",
   "version": "3.8.6"
  }
 },
 "nbformat": 4,
 "nbformat_minor": 4
}
