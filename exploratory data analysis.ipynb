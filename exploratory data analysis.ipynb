{
 "cells": [
  {
   "cell_type": "markdown",
   "id": "9b6f128a",
   "metadata": {},
   "source": [
    "# Import data"
   ]
  },
  {
   "cell_type": "code",
   "execution_count": 2,
   "id": "c0cddc26",
   "metadata": {},
   "outputs": [
    {
     "name": "stdout",
     "output_type": "stream",
     "text": [
      "           cik              nameOfIssuer      titleOfClass      cusip  \\\n",
      "0      1129770  SPDR S&P 500                           COM  824348106   \n",
      "1      1129770  SPDR Dow Jones Ind                     COM  78467x109   \n",
      "2      1129770  Ishares Russell                        COM  464287622   \n",
      "3      1129770  Invesco QQQ TRUST                      COM  73935a104   \n",
      "4      1129770  iShares Russell 20                     COM  464287655   \n",
      "...        ...                       ...               ...        ...   \n",
      "46767  1744091                ISHARES TR  RUS 2000 GRW ETF  464287648   \n",
      "46768  1744091         ETF SER SOLUTIONS       US GLB JETS  26922A842   \n",
      "46769  1744091           BEYOND MEAT INC               COM  08862E109   \n",
      "46770  1744091             SUNPOWER CORP               COM  867652406   \n",
      "46771  1744091      LOCKHEED MARTIN CORP               COM  539830109   \n",
      "\n",
      "          value  sshPrnamt sshPrnamtType  \n",
      "0      70889608     211680            SH  \n",
      "1      29886300     107698            SH  \n",
      "2      26825894     143339            SH  \n",
      "3      21672909      78005            SH  \n",
      "4       9434973      62988            SH  \n",
      "...         ...        ...           ...  \n",
      "46767       224        782            SH  \n",
      "46768       219       9794            SH  \n",
      "46769       218       1740            SH  \n",
      "46770       213       8310            SH  \n",
      "46771       202        570            SH  \n",
      "\n",
      "[46772 rows x 7 columns]\n"
     ]
    }
   ],
   "source": [
    "import pandas as pd\n",
    "\n",
    "df = pd.read_excel (r'C:\\Users\\Laptop\\anaconda3\\envs\\kul\\kul_mda_barbados\\data\\all_submission_files.xlsx')\n",
    "print(df)"
   ]
  },
  {
   "cell_type": "markdown",
   "id": "5d016acd",
   "metadata": {},
   "source": [
    "# check for missing values"
   ]
  },
  {
   "cell_type": "code",
   "execution_count": 3,
   "id": "8bbf6ba4",
   "metadata": {},
   "outputs": [
    {
     "data": {
      "text/plain": [
       "cik              0\n",
       "nameOfIssuer     1\n",
       "titleOfClass     1\n",
       "cusip            0\n",
       "value            0\n",
       "sshPrnamt        0\n",
       "sshPrnamtType    0\n",
       "dtype: int64"
      ]
     },
     "execution_count": 3,
     "metadata": {},
     "output_type": "execute_result"
    }
   ],
   "source": [
    "df.isna().sum()"
   ]
  },
  {
   "cell_type": "markdown",
   "id": "3acd26a6",
   "metadata": {},
   "source": [
    "## drop missing values (remove rows having missing values)"
   ]
  },
  {
   "cell_type": "code",
   "execution_count": 4,
   "id": "a233b0af",
   "metadata": {},
   "outputs": [
    {
     "data": {
      "text/html": [
       "<div>\n",
       "<style scoped>\n",
       "    .dataframe tbody tr th:only-of-type {\n",
       "        vertical-align: middle;\n",
       "    }\n",
       "\n",
       "    .dataframe tbody tr th {\n",
       "        vertical-align: top;\n",
       "    }\n",
       "\n",
       "    .dataframe thead th {\n",
       "        text-align: right;\n",
       "    }\n",
       "</style>\n",
       "<table border=\"1\" class=\"dataframe\">\n",
       "  <thead>\n",
       "    <tr style=\"text-align: right;\">\n",
       "      <th></th>\n",
       "      <th>cik</th>\n",
       "      <th>nameOfIssuer</th>\n",
       "      <th>titleOfClass</th>\n",
       "      <th>cusip</th>\n",
       "      <th>value</th>\n",
       "      <th>sshPrnamt</th>\n",
       "      <th>sshPrnamtType</th>\n",
       "    </tr>\n",
       "  </thead>\n",
       "  <tbody>\n",
       "    <tr>\n",
       "      <th>0</th>\n",
       "      <td>1129770</td>\n",
       "      <td>SPDR S&amp;P 500</td>\n",
       "      <td>COM</td>\n",
       "      <td>824348106</td>\n",
       "      <td>70889608</td>\n",
       "      <td>211680</td>\n",
       "      <td>SH</td>\n",
       "    </tr>\n",
       "    <tr>\n",
       "      <th>1</th>\n",
       "      <td>1129770</td>\n",
       "      <td>SPDR Dow Jones Ind</td>\n",
       "      <td>COM</td>\n",
       "      <td>78467x109</td>\n",
       "      <td>29886300</td>\n",
       "      <td>107698</td>\n",
       "      <td>SH</td>\n",
       "    </tr>\n",
       "    <tr>\n",
       "      <th>2</th>\n",
       "      <td>1129770</td>\n",
       "      <td>Ishares Russell</td>\n",
       "      <td>COM</td>\n",
       "      <td>464287622</td>\n",
       "      <td>26825894</td>\n",
       "      <td>143339</td>\n",
       "      <td>SH</td>\n",
       "    </tr>\n",
       "    <tr>\n",
       "      <th>3</th>\n",
       "      <td>1129770</td>\n",
       "      <td>Invesco QQQ TRUST</td>\n",
       "      <td>COM</td>\n",
       "      <td>73935a104</td>\n",
       "      <td>21672909</td>\n",
       "      <td>78005</td>\n",
       "      <td>SH</td>\n",
       "    </tr>\n",
       "    <tr>\n",
       "      <th>4</th>\n",
       "      <td>1129770</td>\n",
       "      <td>iShares Russell 20</td>\n",
       "      <td>COM</td>\n",
       "      <td>464287655</td>\n",
       "      <td>9434973</td>\n",
       "      <td>62988</td>\n",
       "      <td>SH</td>\n",
       "    </tr>\n",
       "    <tr>\n",
       "      <th>...</th>\n",
       "      <td>...</td>\n",
       "      <td>...</td>\n",
       "      <td>...</td>\n",
       "      <td>...</td>\n",
       "      <td>...</td>\n",
       "      <td>...</td>\n",
       "      <td>...</td>\n",
       "    </tr>\n",
       "    <tr>\n",
       "      <th>46767</th>\n",
       "      <td>1744091</td>\n",
       "      <td>ISHARES TR</td>\n",
       "      <td>RUS 2000 GRW ETF</td>\n",
       "      <td>464287648</td>\n",
       "      <td>224</td>\n",
       "      <td>782</td>\n",
       "      <td>SH</td>\n",
       "    </tr>\n",
       "    <tr>\n",
       "      <th>46768</th>\n",
       "      <td>1744091</td>\n",
       "      <td>ETF SER SOLUTIONS</td>\n",
       "      <td>US GLB JETS</td>\n",
       "      <td>26922A842</td>\n",
       "      <td>219</td>\n",
       "      <td>9794</td>\n",
       "      <td>SH</td>\n",
       "    </tr>\n",
       "    <tr>\n",
       "      <th>46769</th>\n",
       "      <td>1744091</td>\n",
       "      <td>BEYOND MEAT INC</td>\n",
       "      <td>COM</td>\n",
       "      <td>08862E109</td>\n",
       "      <td>218</td>\n",
       "      <td>1740</td>\n",
       "      <td>SH</td>\n",
       "    </tr>\n",
       "    <tr>\n",
       "      <th>46770</th>\n",
       "      <td>1744091</td>\n",
       "      <td>SUNPOWER CORP</td>\n",
       "      <td>COM</td>\n",
       "      <td>867652406</td>\n",
       "      <td>213</td>\n",
       "      <td>8310</td>\n",
       "      <td>SH</td>\n",
       "    </tr>\n",
       "    <tr>\n",
       "      <th>46771</th>\n",
       "      <td>1744091</td>\n",
       "      <td>LOCKHEED MARTIN CORP</td>\n",
       "      <td>COM</td>\n",
       "      <td>539830109</td>\n",
       "      <td>202</td>\n",
       "      <td>570</td>\n",
       "      <td>SH</td>\n",
       "    </tr>\n",
       "  </tbody>\n",
       "</table>\n",
       "<p>46771 rows × 7 columns</p>\n",
       "</div>"
      ],
      "text/plain": [
       "           cik              nameOfIssuer      titleOfClass      cusip  \\\n",
       "0      1129770  SPDR S&P 500                           COM  824348106   \n",
       "1      1129770  SPDR Dow Jones Ind                     COM  78467x109   \n",
       "2      1129770  Ishares Russell                        COM  464287622   \n",
       "3      1129770  Invesco QQQ TRUST                      COM  73935a104   \n",
       "4      1129770  iShares Russell 20                     COM  464287655   \n",
       "...        ...                       ...               ...        ...   \n",
       "46767  1744091                ISHARES TR  RUS 2000 GRW ETF  464287648   \n",
       "46768  1744091         ETF SER SOLUTIONS       US GLB JETS  26922A842   \n",
       "46769  1744091           BEYOND MEAT INC               COM  08862E109   \n",
       "46770  1744091             SUNPOWER CORP               COM  867652406   \n",
       "46771  1744091      LOCKHEED MARTIN CORP               COM  539830109   \n",
       "\n",
       "          value  sshPrnamt sshPrnamtType  \n",
       "0      70889608     211680            SH  \n",
       "1      29886300     107698            SH  \n",
       "2      26825894     143339            SH  \n",
       "3      21672909      78005            SH  \n",
       "4       9434973      62988            SH  \n",
       "...         ...        ...           ...  \n",
       "46767       224        782            SH  \n",
       "46768       219       9794            SH  \n",
       "46769       218       1740            SH  \n",
       "46770       213       8310            SH  \n",
       "46771       202        570            SH  \n",
       "\n",
       "[46771 rows x 7 columns]"
      ]
     },
     "execution_count": 4,
     "metadata": {},
     "output_type": "execute_result"
    }
   ],
   "source": [
    "df.dropna(axis=0)"
   ]
  },
  {
   "cell_type": "markdown",
   "id": "ee8573fa",
   "metadata": {},
   "source": [
    "only one row is deleted due to missing values in the columns nameofIssuer and titleOfClass"
   ]
  },
  {
   "cell_type": "markdown",
   "id": "9871ba2a",
   "metadata": {},
   "source": [
    "# Data Formatting"
   ]
  },
  {
   "cell_type": "markdown",
   "id": "5689afe3",
   "metadata": {},
   "source": [
    "convert imported data into a dataframe and print the first 10 rows"
   ]
  },
  {
   "cell_type": "code",
   "execution_count": 6,
   "id": "3263445c",
   "metadata": {},
   "outputs": [
    {
     "name": "stdout",
     "output_type": "stream",
     "text": [
      "Dimension of the dataframe: (46772, 7)\n"
     ]
    },
    {
     "data": {
      "text/html": [
       "<div>\n",
       "<style scoped>\n",
       "    .dataframe tbody tr th:only-of-type {\n",
       "        vertical-align: middle;\n",
       "    }\n",
       "\n",
       "    .dataframe tbody tr th {\n",
       "        vertical-align: top;\n",
       "    }\n",
       "\n",
       "    .dataframe thead th {\n",
       "        text-align: right;\n",
       "    }\n",
       "</style>\n",
       "<table border=\"1\" class=\"dataframe\">\n",
       "  <thead>\n",
       "    <tr style=\"text-align: right;\">\n",
       "      <th></th>\n",
       "      <th>cik</th>\n",
       "      <th>nameOfIssuer</th>\n",
       "      <th>titleOfClass</th>\n",
       "      <th>cusip</th>\n",
       "      <th>value</th>\n",
       "      <th>sshPrnamt</th>\n",
       "      <th>sshPrnamtType</th>\n",
       "    </tr>\n",
       "  </thead>\n",
       "  <tbody>\n",
       "    <tr>\n",
       "      <th>0</th>\n",
       "      <td>1129770</td>\n",
       "      <td>SPDR S&amp;P 500</td>\n",
       "      <td>COM</td>\n",
       "      <td>824348106</td>\n",
       "      <td>70889608</td>\n",
       "      <td>211680</td>\n",
       "      <td>SH</td>\n",
       "    </tr>\n",
       "    <tr>\n",
       "      <th>1</th>\n",
       "      <td>1129770</td>\n",
       "      <td>SPDR Dow Jones Ind</td>\n",
       "      <td>COM</td>\n",
       "      <td>78467x109</td>\n",
       "      <td>29886300</td>\n",
       "      <td>107698</td>\n",
       "      <td>SH</td>\n",
       "    </tr>\n",
       "    <tr>\n",
       "      <th>2</th>\n",
       "      <td>1129770</td>\n",
       "      <td>Ishares Russell</td>\n",
       "      <td>COM</td>\n",
       "      <td>464287622</td>\n",
       "      <td>26825894</td>\n",
       "      <td>143339</td>\n",
       "      <td>SH</td>\n",
       "    </tr>\n",
       "    <tr>\n",
       "      <th>3</th>\n",
       "      <td>1129770</td>\n",
       "      <td>Invesco QQQ TRUST</td>\n",
       "      <td>COM</td>\n",
       "      <td>73935a104</td>\n",
       "      <td>21672909</td>\n",
       "      <td>78005</td>\n",
       "      <td>SH</td>\n",
       "    </tr>\n",
       "    <tr>\n",
       "      <th>4</th>\n",
       "      <td>1129770</td>\n",
       "      <td>iShares Russell 20</td>\n",
       "      <td>COM</td>\n",
       "      <td>464287655</td>\n",
       "      <td>9434973</td>\n",
       "      <td>62988</td>\n",
       "      <td>SH</td>\n",
       "    </tr>\n",
       "    <tr>\n",
       "      <th>5</th>\n",
       "      <td>1129770</td>\n",
       "      <td>SPDR S&amp;P Mid-Cap 4</td>\n",
       "      <td>COM</td>\n",
       "      <td>78464a821</td>\n",
       "      <td>9351708</td>\n",
       "      <td>27600</td>\n",
       "      <td>SH</td>\n",
       "    </tr>\n",
       "    <tr>\n",
       "      <th>6</th>\n",
       "      <td>1129770</td>\n",
       "      <td>Amazon Com Inc</td>\n",
       "      <td>COM</td>\n",
       "      <td>023135106</td>\n",
       "      <td>1032783</td>\n",
       "      <td>328</td>\n",
       "      <td>SH</td>\n",
       "    </tr>\n",
       "    <tr>\n",
       "      <th>7</th>\n",
       "      <td>1129770</td>\n",
       "      <td>SPDR S&amp;P Homebuild</td>\n",
       "      <td>COM</td>\n",
       "      <td>78464a888</td>\n",
       "      <td>879628</td>\n",
       "      <td>16326</td>\n",
       "      <td>SH</td>\n",
       "    </tr>\n",
       "    <tr>\n",
       "      <th>8</th>\n",
       "      <td>1129770</td>\n",
       "      <td>Central Fd Cda Ltd</td>\n",
       "      <td>COM</td>\n",
       "      <td>153501101</td>\n",
       "      <td>783173</td>\n",
       "      <td>42703</td>\n",
       "      <td>SH</td>\n",
       "    </tr>\n",
       "    <tr>\n",
       "      <th>9</th>\n",
       "      <td>1129770</td>\n",
       "      <td>Accelerate Diagnos</td>\n",
       "      <td>COM</td>\n",
       "      <td>00430h105</td>\n",
       "      <td>690395</td>\n",
       "      <td>64765</td>\n",
       "      <td>SH</td>\n",
       "    </tr>\n",
       "  </tbody>\n",
       "</table>\n",
       "</div>"
      ],
      "text/plain": [
       "       cik              nameOfIssuer titleOfClass      cusip     value  \\\n",
       "0  1129770  SPDR S&P 500                      COM  824348106  70889608   \n",
       "1  1129770  SPDR Dow Jones Ind                COM  78467x109  29886300   \n",
       "2  1129770  Ishares Russell                   COM  464287622  26825894   \n",
       "3  1129770  Invesco QQQ TRUST                 COM  73935a104  21672909   \n",
       "4  1129770  iShares Russell 20                COM  464287655   9434973   \n",
       "5  1129770  SPDR S&P Mid-Cap 4                COM  78464a821   9351708   \n",
       "6  1129770  Amazon Com Inc                    COM  023135106   1032783   \n",
       "7  1129770  SPDR S&P Homebuild                COM  78464a888    879628   \n",
       "8  1129770  Central Fd Cda Ltd                COM  153501101    783173   \n",
       "9  1129770  Accelerate Diagnos                COM  00430h105    690395   \n",
       "\n",
       "   sshPrnamt sshPrnamtType  \n",
       "0     211680            SH  \n",
       "1     107698            SH  \n",
       "2     143339            SH  \n",
       "3      78005            SH  \n",
       "4      62988            SH  \n",
       "5      27600            SH  \n",
       "6        328            SH  \n",
       "7      16326            SH  \n",
       "8      42703            SH  \n",
       "9      64765            SH  "
      ]
     },
     "execution_count": 6,
     "metadata": {},
     "output_type": "execute_result"
    }
   ],
   "source": [
    "print('Dimension of the dataframe:',df.shape)\n",
    "df.head(10)"
   ]
  },
  {
   "cell_type": "markdown",
   "id": "d9e013c0",
   "metadata": {},
   "source": [
    "drop all missing values using the dropna() function"
   ]
  },
  {
   "cell_type": "code",
   "execution_count": 7,
   "id": "4f291e0b",
   "metadata": {},
   "outputs": [],
   "source": [
    "df.dropna(how='any',inplace=True)"
   ]
  },
  {
   "cell_type": "markdown",
   "id": "7d767804",
   "metadata": {},
   "source": [
    "examine the different data types"
   ]
  },
  {
   "cell_type": "code",
   "execution_count": 8,
   "id": "5e6cbeea",
   "metadata": {},
   "outputs": [
    {
     "data": {
      "text/plain": [
       "cik               int64\n",
       "nameOfIssuer     object\n",
       "titleOfClass     object\n",
       "cusip            object\n",
       "value             int64\n",
       "sshPrnamt         int64\n",
       "sshPrnamtType    object\n",
       "dtype: object"
      ]
     },
     "execution_count": 8,
     "metadata": {},
     "output_type": "execute_result"
    }
   ],
   "source": [
    "df.dtypes"
   ]
  },
  {
   "cell_type": "markdown",
   "id": "a398fb8a",
   "metadata": {},
   "source": [
    "descriptive statistics of the numerical variables"
   ]
  },
  {
   "cell_type": "code",
   "execution_count": 13,
   "id": "03262bda",
   "metadata": {},
   "outputs": [
    {
     "data": {
      "text/html": [
       "<div>\n",
       "<style scoped>\n",
       "    .dataframe tbody tr th:only-of-type {\n",
       "        vertical-align: middle;\n",
       "    }\n",
       "\n",
       "    .dataframe tbody tr th {\n",
       "        vertical-align: top;\n",
       "    }\n",
       "\n",
       "    .dataframe thead th {\n",
       "        text-align: right;\n",
       "    }\n",
       "</style>\n",
       "<table border=\"1\" class=\"dataframe\">\n",
       "  <thead>\n",
       "    <tr style=\"text-align: right;\">\n",
       "      <th></th>\n",
       "      <th>cik</th>\n",
       "      <th>value</th>\n",
       "      <th>sshPrnamt</th>\n",
       "    </tr>\n",
       "  </thead>\n",
       "  <tbody>\n",
       "    <tr>\n",
       "      <th>count</th>\n",
       "      <td>4.677100e+04</td>\n",
       "      <td>4.677100e+04</td>\n",
       "      <td>4.677100e+04</td>\n",
       "    </tr>\n",
       "    <tr>\n",
       "      <th>mean</th>\n",
       "      <td>1.333147e+06</td>\n",
       "      <td>7.083168e+04</td>\n",
       "      <td>4.115935e+05</td>\n",
       "    </tr>\n",
       "    <tr>\n",
       "      <th>std</th>\n",
       "      <td>3.269081e+05</td>\n",
       "      <td>1.076631e+06</td>\n",
       "      <td>3.697519e+06</td>\n",
       "    </tr>\n",
       "    <tr>\n",
       "      <th>min</th>\n",
       "      <td>3.149650e+05</td>\n",
       "      <td>0.000000e+00</td>\n",
       "      <td>0.000000e+00</td>\n",
       "    </tr>\n",
       "    <tr>\n",
       "      <th>25%</th>\n",
       "      <td>9.325400e+05</td>\n",
       "      <td>8.350000e+01</td>\n",
       "      <td>2.000000e+03</td>\n",
       "    </tr>\n",
       "    <tr>\n",
       "      <th>50%</th>\n",
       "      <td>1.429788e+06</td>\n",
       "      <td>5.560000e+02</td>\n",
       "      <td>1.129400e+04</td>\n",
       "    </tr>\n",
       "    <tr>\n",
       "      <th>75%</th>\n",
       "      <td>1.549408e+06</td>\n",
       "      <td>3.392000e+03</td>\n",
       "      <td>6.156200e+04</td>\n",
       "    </tr>\n",
       "    <tr>\n",
       "      <th>max</th>\n",
       "      <td>1.846995e+06</td>\n",
       "      <td>7.088961e+07</td>\n",
       "      <td>2.800908e+08</td>\n",
       "    </tr>\n",
       "  </tbody>\n",
       "</table>\n",
       "</div>"
      ],
      "text/plain": [
       "                cik         value     sshPrnamt\n",
       "count  4.677100e+04  4.677100e+04  4.677100e+04\n",
       "mean   1.333147e+06  7.083168e+04  4.115935e+05\n",
       "std    3.269081e+05  1.076631e+06  3.697519e+06\n",
       "min    3.149650e+05  0.000000e+00  0.000000e+00\n",
       "25%    9.325400e+05  8.350000e+01  2.000000e+03\n",
       "50%    1.429788e+06  5.560000e+02  1.129400e+04\n",
       "75%    1.549408e+06  3.392000e+03  6.156200e+04\n",
       "max    1.846995e+06  7.088961e+07  2.800908e+08"
      ]
     },
     "execution_count": 13,
     "metadata": {},
     "output_type": "execute_result"
    }
   ],
   "source": [
    "df.describe()"
   ]
  },
  {
   "cell_type": "markdown",
   "id": "237b3780",
   "metadata": {},
   "source": [
    "cik column also used but this has no meaning => drop this column.\n",
    "descriptive statistics of the 2 numerical variables (value and sshPrnamt)"
   ]
  },
  {
   "cell_type": "code",
   "execution_count": 15,
   "id": "a70151f7",
   "metadata": {},
   "outputs": [
    {
     "data": {
      "text/html": [
       "<div>\n",
       "<style scoped>\n",
       "    .dataframe tbody tr th:only-of-type {\n",
       "        vertical-align: middle;\n",
       "    }\n",
       "\n",
       "    .dataframe tbody tr th {\n",
       "        vertical-align: top;\n",
       "    }\n",
       "\n",
       "    .dataframe thead th {\n",
       "        text-align: right;\n",
       "    }\n",
       "</style>\n",
       "<table border=\"1\" class=\"dataframe\">\n",
       "  <thead>\n",
       "    <tr style=\"text-align: right;\">\n",
       "      <th></th>\n",
       "      <th>value</th>\n",
       "      <th>sshPrnamt</th>\n",
       "    </tr>\n",
       "  </thead>\n",
       "  <tbody>\n",
       "    <tr>\n",
       "      <th>count</th>\n",
       "      <td>4.677100e+04</td>\n",
       "      <td>4.677100e+04</td>\n",
       "    </tr>\n",
       "    <tr>\n",
       "      <th>mean</th>\n",
       "      <td>7.083168e+04</td>\n",
       "      <td>4.115935e+05</td>\n",
       "    </tr>\n",
       "    <tr>\n",
       "      <th>std</th>\n",
       "      <td>1.076631e+06</td>\n",
       "      <td>3.697519e+06</td>\n",
       "    </tr>\n",
       "    <tr>\n",
       "      <th>min</th>\n",
       "      <td>0.000000e+00</td>\n",
       "      <td>0.000000e+00</td>\n",
       "    </tr>\n",
       "    <tr>\n",
       "      <th>25%</th>\n",
       "      <td>8.350000e+01</td>\n",
       "      <td>2.000000e+03</td>\n",
       "    </tr>\n",
       "    <tr>\n",
       "      <th>50%</th>\n",
       "      <td>5.560000e+02</td>\n",
       "      <td>1.129400e+04</td>\n",
       "    </tr>\n",
       "    <tr>\n",
       "      <th>75%</th>\n",
       "      <td>3.392000e+03</td>\n",
       "      <td>6.156200e+04</td>\n",
       "    </tr>\n",
       "    <tr>\n",
       "      <th>max</th>\n",
       "      <td>7.088961e+07</td>\n",
       "      <td>2.800908e+08</td>\n",
       "    </tr>\n",
       "  </tbody>\n",
       "</table>\n",
       "</div>"
      ],
      "text/plain": [
       "              value     sshPrnamt\n",
       "count  4.677100e+04  4.677100e+04\n",
       "mean   7.083168e+04  4.115935e+05\n",
       "std    1.076631e+06  3.697519e+06\n",
       "min    0.000000e+00  0.000000e+00\n",
       "25%    8.350000e+01  2.000000e+03\n",
       "50%    5.560000e+02  1.129400e+04\n",
       "75%    3.392000e+03  6.156200e+04\n",
       "max    7.088961e+07  2.800908e+08"
      ]
     },
     "execution_count": 15,
     "metadata": {},
     "output_type": "execute_result"
    }
   ],
   "source": [
    "cols = set(df) - {'cik'}\n",
    "df1 = df[list(cols)]\n",
    "df1.describe()"
   ]
  },
  {
   "cell_type": "code",
   "execution_count": 16,
   "id": "9bcd4054",
   "metadata": {},
   "outputs": [
    {
     "data": {
      "text/plain": [
       "array(['824348106', '78467x109', '464287622', ..., '9837FR100',\n",
       "       '98390M103', '98872L102'], dtype=object)"
      ]
     },
     "execution_count": 16,
     "metadata": {},
     "output_type": "execute_result"
    }
   ],
   "source": [
    "df['cusip'].unique()"
   ]
  },
  {
   "cell_type": "markdown",
   "id": "0efc568e",
   "metadata": {},
   "source": [
    "it seems that the same concept is never represented in different ways so we don't need to manipulate them"
   ]
  },
  {
   "cell_type": "code",
   "execution_count": null,
   "id": "1330ea91",
   "metadata": {},
   "outputs": [],
   "source": []
  }
 ],
 "metadata": {
  "language_info": {
   "codemirror_mode": {
    "name": "ipython",
    "version": 3
   },
   "file_extension": ".py",
   "mimetype": "text/x-python",
   "name": "python",
   "nbconvert_exporter": "python",
   "pygments_lexer": "ipython3",
   "version": "3.8.8"
  }
 },
 "nbformat": 4,
 "nbformat_minor": 5
}
